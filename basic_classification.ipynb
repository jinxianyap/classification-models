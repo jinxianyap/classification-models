{
  "nbformat": 4,
  "nbformat_minor": 0,
  "metadata": {
    "colab": {
      "name": "basic_classification.ipynb",
      "provenance": [],
      "collapsed_sections": [],
      "authorship_tag": "ABX9TyOwtgII8G63qCPp7OMbCrhP",
      "include_colab_link": true
    },
    "kernelspec": {
      "name": "python3",
      "display_name": "Python 3"
    },
    "accelerator": "GPU"
  },
  "cells": [
    {
      "cell_type": "markdown",
      "metadata": {
        "id": "view-in-github",
        "colab_type": "text"
      },
      "source": [
        "<a href=\"https://colab.research.google.com/github/jinxianyap/classification-models/blob/master/basic_classification.ipynb\" target=\"_parent\"><img src=\"https://colab.research.google.com/assets/colab-badge.svg\" alt=\"Open In Colab\"/></a>"
      ]
    },
    {
      "cell_type": "code",
      "metadata": {
        "id": "-60z8fuYkJsG",
        "outputId": "791a2060-87eb-4e40-940a-75f5540ef997",
        "colab": {
          "base_uri": "https://localhost:8080/",
          "height": 53
        }
      },
      "source": [
        "from google.colab import drive\n",
        "drive.mount('/gdrive')\n",
        "%cd /gdrive/My\\ Drive/WISE AI/Classification"
      ],
      "execution_count": 85,
      "outputs": [
        {
          "output_type": "stream",
          "text": [
            "Drive already mounted at /gdrive; to attempt to forcibly remount, call drive.mount(\"/gdrive\", force_remount=True).\n",
            "/gdrive/My Drive/WISE AI/Classification\n"
          ],
          "name": "stdout"
        }
      ]
    },
    {
      "cell_type": "code",
      "metadata": {
        "id": "Bznnb18LEK62"
      },
      "source": [
        "import os\n",
        "import numpy as np\n",
        "from numpy import asarray\n",
        "from numpy import save\n",
        "from keras.preprocessing.image import load_img\n",
        "from keras.preprocessing.image import img_to_array\n",
        "from sklearn.model_selection import train_test_split\n",
        "from matplotlib import pyplot\n",
        "from matplotlib.image import imread\n",
        "\n",
        "from keras.applications.vgg16 import VGG16\n",
        "from keras.applications.vgg16 import preprocess_input\n",
        "from keras.preprocessing.image import ImageDataGenerator\n",
        "from keras import Sequential\n",
        "from keras.layers import Flatten,Dense,BatchNormalization,Activation,Dropout,Conv2D,MaxPooling2D\n",
        "from keras.optimizers import SGD,Adam\n",
        "from keras.regularizers import l1\n",
        "from sklearn.model_selection import KFold\n",
        "from keras.models import model_from_json\n",
        "\n",
        "target_height = 200\n",
        "target_width = 200"
      ],
      "execution_count": 86,
      "outputs": []
    },
    {
      "cell_type": "code",
      "metadata": {
        "id": "VjDOuqT34JHh"
      },
      "source": [
        "def load_dataset():\n",
        "  categories = ['blur', 'normal', 'dark', 'glare', 'damaged', 'covered']\n",
        "  classes = os.listdir('./classes')\n",
        "  train_photos, test_photos, train_labels, test_labels = list(), list(), list(), list()\n",
        "\n",
        "  def get_encoding(class_name):\n",
        "    return list(map(lambda c: 1 if c == class_name else 0, categories))\n",
        "\n",
        "  for each in classes:\n",
        "    i = 0;\n",
        "    for image in os.listdir('./classes/' + each):\n",
        "      output = get_encoding(each)\n",
        "      photo = load_img('./classes/' + each + \"/\" + image, target_size=(target_height, target_width))\n",
        "      photo = img_to_array(photo)\n",
        "\n",
        "      if i > 2:\n",
        "        train_photos.append(photo)\n",
        "        train_labels.append(output)\n",
        "      else:\n",
        "        test_photos.append(photo)\n",
        "        test_labels.append(output)\n",
        "      i += 1;\n",
        "\n",
        "  X_train = asarray(train_photos)\n",
        "  y_train = asarray(train_labels)\n",
        "  X_test = asarray(test_photos)\n",
        "  y_test = asarray(test_labels)\n",
        "\n",
        "  return X_train, y_train, X_test, y_test"
      ],
      "execution_count": 87,
      "outputs": []
    },
    {
      "cell_type": "code",
      "metadata": {
        "id": "ZUqDceX8Ee1g"
      },
      "source": [
        "def build_model():\n",
        "  model = Sequential()\n",
        "  model.add(Conv2D(32, (3, 3), activation='relu', kernel_initializer='he_uniform', input_shape=(target_height, target_width, 3)))\n",
        "  model.add(MaxPooling2D((2, 2)))\n",
        "  model.add(Flatten())\n",
        "  model.add(Dense(100, activation='relu', kernel_initializer='he_uniform'))\n",
        "  model.add(Dropout(0.2))\n",
        "  model.add(Dense(6, activation='softmax'))\n",
        "\n",
        "  # opt = Adam(lr=0.01)\n",
        "  opt = SGD(lr=0.01, momentum=0.9)\n",
        "  model.compile(optimizer=opt,loss='categorical_crossentropy',metrics=['accuracy'])\n",
        "  return model;"
      ],
      "execution_count": 88,
      "outputs": []
    },
    {
      "cell_type": "code",
      "metadata": {
        "id": "nqtOfaE5tUEa"
      },
      "source": [
        "def train_model(model, dataX, dataY, testX, testY):\n",
        "  datagen = ImageDataGenerator(rescale=1./255)\n",
        "  testgen = ImageDataGenerator(rescale=1./255)\n",
        "\n",
        "  history = model.fit(datagen.flow(dataX, dataY), epochs=11, validation_data=testgen.flow(testX, testY), verbose=1)\n",
        "  _, acc = model.evaluate(testX, testY, verbose=0)\n",
        "  print('> %.3f' % (acc * 100.0))\n",
        "\n",
        "  return model, history, acc\n"
      ],
      "execution_count": 89,
      "outputs": []
    },
    {
      "cell_type": "code",
      "metadata": {
        "id": "ZoT_JcdxC_RX"
      },
      "source": [
        "def plot_metrics(history):\n",
        "  fig, (ax1, ax2) = pyplot.subplots(2)\n",
        "  plot_loss(history, ax1)\n",
        "  plot_accuracy(history, ax2)\n",
        "\n",
        "def plot_loss(each, ax):\n",
        "  ax.set_title('Cross Entropy Loss')\n",
        "  ax.plot(each.history['loss'], color='blue', label='train')\n",
        "  ax.plot(each.history['val_loss'], color='orange', label='test')\n",
        "\n",
        "def plot_accuracy(each, ax):\n",
        "  ax.set_title('Classification Accuracy')\n",
        "  ax.plot(each.history['accuracy'], color='blue', label='train')\n",
        "  ax.plot(each.history['val_accuracy'], color='orange', label='test')\n"
      ],
      "execution_count": 90,
      "outputs": []
    },
    {
      "cell_type": "code",
      "metadata": {
        "id": "Aq6gp1ILNzov"
      },
      "source": [
        "def predict(model, reserveX, reserveY):\n",
        "  print(reserveY)\n",
        "  a = model.predict(reserveX)\n",
        "  print(list(map(lambda b: list(map(lambda c: int(c), b)), a)))"
      ],
      "execution_count": 91,
      "outputs": []
    },
    {
      "cell_type": "code",
      "metadata": {
        "id": "BiuC1PfHnM0i"
      },
      "source": [
        "def save_model(model):\n",
        "  fd_model = os.open('./models/basic_classification.json', os.O_RDWR|os.O_CREAT) \n",
        "  model_json = model.to_json()\n",
        "  os.write(fd_model, bytes(model_json, 'utf-8'))\n",
        "  os.close(fd_model)\n",
        "\n",
        "  model.save_weights(\"./weights/basic_classification.h5\")\n",
        "  print(\"Saved model to disk\")"
      ],
      "execution_count": 92,
      "outputs": []
    },
    {
      "cell_type": "code",
      "metadata": {
        "id": "BWb0jaMgFWbp",
        "outputId": "52b99a0f-1f94-4889-d436-7d26c418a168",
        "colab": {
          "base_uri": "https://localhost:8080/",
          "height": 1000
        }
      },
      "source": [
        "def run():\n",
        "  trainX, trainY, testX, testY = load_dataset()\n",
        "\n",
        "  model = build_model()\n",
        "\n",
        "  model, hists, accs = train_model(model, trainX, trainY, testX, testY)\n",
        "\n",
        "  plot_metrics(hists)\n",
        "\n",
        "  # do i need to rescale reserveX and reserveY\n",
        "  predict(model, testX, testY)\n",
        "\n",
        "  # save_model(model)\n",
        "\n",
        "run()"
      ],
      "execution_count": 93,
      "outputs": [
        {
          "output_type": "stream",
          "text": [
            "Epoch 1/11\n",
            "2/2 [==============================] - 0s 90ms/step - loss: 85.3173 - accuracy: 0.1538 - val_loss: 112.3903 - val_accuracy: 0.1667\n",
            "Epoch 2/11\n",
            "2/2 [==============================] - 0s 38ms/step - loss: 57.0096 - accuracy: 0.2308 - val_loss: 1.7546 - val_accuracy: 0.2778\n",
            "Epoch 3/11\n",
            "2/2 [==============================] - 0s 37ms/step - loss: 1.7372 - accuracy: 0.2885 - val_loss: 1.6778 - val_accuracy: 0.2778\n",
            "Epoch 4/11\n",
            "2/2 [==============================] - 0s 40ms/step - loss: 1.6387 - accuracy: 0.2885 - val_loss: 1.5753 - val_accuracy: 0.2778\n",
            "Epoch 5/11\n",
            "2/2 [==============================] - 0s 39ms/step - loss: 1.5334 - accuracy: 0.2885 - val_loss: 1.4540 - val_accuracy: 0.2778\n",
            "Epoch 6/11\n",
            "2/2 [==============================] - 0s 37ms/step - loss: 1.3681 - accuracy: 0.4231 - val_loss: 1.2930 - val_accuracy: 0.2778\n",
            "Epoch 7/11\n",
            "2/2 [==============================] - 0s 37ms/step - loss: 1.2227 - accuracy: 0.5192 - val_loss: 1.1304 - val_accuracy: 0.4444\n",
            "Epoch 8/11\n",
            "2/2 [==============================] - 0s 37ms/step - loss: 1.0152 - accuracy: 0.7115 - val_loss: 0.8845 - val_accuracy: 0.8333\n",
            "Epoch 9/11\n",
            "2/2 [==============================] - 0s 39ms/step - loss: 0.7456 - accuracy: 0.8846 - val_loss: 0.7166 - val_accuracy: 0.8889\n",
            "Epoch 10/11\n",
            "2/2 [==============================] - 0s 37ms/step - loss: 0.7205 - accuracy: 0.8077 - val_loss: 0.6983 - val_accuracy: 0.7778\n",
            "Epoch 11/11\n",
            "2/2 [==============================] - 0s 39ms/step - loss: 0.5234 - accuracy: 0.8462 - val_loss: 0.6232 - val_accuracy: 0.8333\n",
            "> 77.778\n",
            "[[1 0 0 0 0 0]\n",
            " [1 0 0 0 0 0]\n",
            " [1 0 0 0 0 0]\n",
            " [0 1 0 0 0 0]\n",
            " [0 1 0 0 0 0]\n",
            " [0 1 0 0 0 0]\n",
            " [0 0 1 0 0 0]\n",
            " [0 0 1 0 0 0]\n",
            " [0 0 1 0 0 0]\n",
            " [0 0 0 1 0 0]\n",
            " [0 0 0 1 0 0]\n",
            " [0 0 0 1 0 0]\n",
            " [0 0 0 0 1 0]\n",
            " [0 0 0 0 1 0]\n",
            " [0 0 0 0 1 0]\n",
            " [0 0 0 0 0 1]\n",
            " [0 0 0 0 0 1]\n",
            " [0 0 0 0 0 1]]\n",
            "WARNING:tensorflow:5 out of the last 5 calls to <function Model.make_predict_function.<locals>.predict_function at 0x7fe49a361400> triggered tf.function retracing. Tracing is expensive and the excessive number of tracings could be due to (1) creating @tf.function repeatedly in a loop, (2) passing tensors with different shapes, (3) passing Python objects instead of tensors. For (1), please define your @tf.function outside of the loop. For (2), @tf.function has experimental_relax_shapes=True option that relaxes argument shapes that can avoid unnecessary retracing. For (3), please refer to https://www.tensorflow.org/tutorials/customization/performance#python_or_tensor_args and https://www.tensorflow.org/api_docs/python/tf/function for  more details.\n",
            "[[1, 0, 0, 0, 0, 0], [1, 0, 0, 0, 0, 0], [1, 0, 0, 0, 0, 0], [0, 0, 0, 0, 0, 1], [0, 1, 0, 0, 0, 0], [0, 1, 0, 0, 0, 0], [0, 0, 1, 0, 0, 0], [0, 0, 1, 0, 0, 0], [0, 1, 0, 0, 0, 0], [0, 0, 0, 1, 0, 0], [0, 0, 0, 1, 0, 0], [0, 1, 0, 0, 0, 0], [0, 1, 0, 0, 0, 0], [0, 0, 0, 0, 1, 0], [0, 0, 0, 0, 1, 0], [0, 0, 0, 0, 0, 1], [0, 0, 0, 0, 0, 1], [0, 0, 0, 0, 0, 1]]\n"
          ],
          "name": "stdout"
        },
        {
          "output_type": "display_data",
          "data": {
            "image/png": "[encoded data removed]",
            "text/plain": [
              "<Figure size 432x288 with 2 Axes>"
            ]
          },
          "metadata": {
            "tags": [],
            "needs_background": "light"
          }
        }
      ]
    }
  ]
}