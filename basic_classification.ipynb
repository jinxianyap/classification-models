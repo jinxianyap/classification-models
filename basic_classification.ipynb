{
  "nbformat": 4,
  "nbformat_minor": 0,
  "metadata": {
    "colab": {
      "name": "basic_classification.ipynb",
      "provenance": [],
      "collapsed_sections": [],
      "authorship_tag": "ABX9TyPgPfvbAu5qKkqGIYme+1GI",
      "include_colab_link": true
    },
    "kernelspec": {
      "name": "python3",
      "display_name": "Python 3"
    },
    "accelerator": "GPU"
  },
  "cells": [
    {
      "cell_type": "markdown",
      "metadata": {
        "id": "view-in-github",
        "colab_type": "text"
      },
      "source": [
        "<a href=\"https://colab.research.google.com/github/jinxianyap/classification-models/blob/master/basic_classification.ipynb\" target=\"_parent\"><img src=\"https://colab.research.google.com/assets/colab-badge.svg\" alt=\"Open In Colab\"/></a>"
      ]
    },
    {
      "cell_type": "code",
      "metadata": {
        "id": "-60z8fuYkJsG",
        "outputId": "c4105e85-f566-435a-b13c-324eb0b9f200",
        "colab": {
          "base_uri": "https://localhost:8080/",
          "height": 449
        }
      },
      "source": [
        "!pip install --upgrade gspread\n",
        "\n",
        "from google.colab import drive\n",
        "drive.mount('/gdrive')\n",
        "%cd /gdrive/My\\ Drive/WISE AI/Classification"
      ],
      "execution_count": null,
      "outputs": [
        {
          "output_type": "stream",
          "text": [
            "Collecting gspread\n",
            "  Downloading https://files.pythonhosted.org/packages/9c/ba/bc8de4f5077bd34bc873bdd67a89cb29c4f181abba8a836d2c6a0a142365/gspread-3.6.0-py3-none-any.whl\n",
            "Requirement already satisfied, skipping upgrade: google-auth>=1.12.0 in /usr/local/lib/python3.6/dist-packages (from gspread) (1.17.2)\n",
            "Requirement already satisfied, skipping upgrade: google-auth-oauthlib>=0.4.1 in /usr/local/lib/python3.6/dist-packages (from gspread) (0.4.1)\n",
            "Requirement already satisfied, skipping upgrade: requests>=2.2.1 in /usr/local/lib/python3.6/dist-packages (from gspread) (2.23.0)\n",
            "Requirement already satisfied, skipping upgrade: pyasn1-modules>=0.2.1 in /usr/local/lib/python3.6/dist-packages (from google-auth>=1.12.0->gspread) (0.2.8)\n",
            "Requirement already satisfied, skipping upgrade: rsa<5,>=3.1.4; python_version >= \"3\" in /usr/local/lib/python3.6/dist-packages (from google-auth>=1.12.0->gspread) (4.6)\n",
            "Requirement already satisfied, skipping upgrade: six>=1.9.0 in /usr/local/lib/python3.6/dist-packages (from google-auth>=1.12.0->gspread) (1.15.0)\n",
            "Requirement already satisfied, skipping upgrade: cachetools<5.0,>=2.0.0 in /usr/local/lib/python3.6/dist-packages (from google-auth>=1.12.0->gspread) (4.1.1)\n",
            "Requirement already satisfied, skipping upgrade: setuptools>=40.3.0 in /usr/local/lib/python3.6/dist-packages (from google-auth>=1.12.0->gspread) (50.3.0)\n",
            "Requirement already satisfied, skipping upgrade: requests-oauthlib>=0.7.0 in /usr/local/lib/python3.6/dist-packages (from google-auth-oauthlib>=0.4.1->gspread) (1.3.0)\n",
            "Requirement already satisfied, skipping upgrade: certifi>=2017.4.17 in /usr/local/lib/python3.6/dist-packages (from requests>=2.2.1->gspread) (2020.6.20)\n",
            "Requirement already satisfied, skipping upgrade: idna<3,>=2.5 in /usr/local/lib/python3.6/dist-packages (from requests>=2.2.1->gspread) (2.10)\n",
            "Requirement already satisfied, skipping upgrade: chardet<4,>=3.0.2 in /usr/local/lib/python3.6/dist-packages (from requests>=2.2.1->gspread) (3.0.4)\n",
            "Requirement already satisfied, skipping upgrade: urllib3!=1.25.0,!=1.25.1,<1.26,>=1.21.1 in /usr/local/lib/python3.6/dist-packages (from requests>=2.2.1->gspread) (1.24.3)\n",
            "Requirement already satisfied, skipping upgrade: pyasn1<0.5.0,>=0.4.6 in /usr/local/lib/python3.6/dist-packages (from pyasn1-modules>=0.2.1->google-auth>=1.12.0->gspread) (0.4.8)\n",
            "Requirement already satisfied, skipping upgrade: oauthlib>=3.0.0 in /usr/local/lib/python3.6/dist-packages (from requests-oauthlib>=0.7.0->google-auth-oauthlib>=0.4.1->gspread) (3.1.0)\n",
            "Installing collected packages: gspread\n",
            "  Found existing installation: gspread 3.0.1\n",
            "    Uninstalling gspread-3.0.1:\n",
            "      Successfully uninstalled gspread-3.0.1\n",
            "Successfully installed gspread-3.6.0\n",
            "Mounted at /gdrive\n",
            "/gdrive/My Drive/WISE AI/Classification\n"
          ],
          "name": "stdout"
        }
      ]
    },
    {
      "cell_type": "code",
      "metadata": {
        "id": "Bznnb18LEK62"
      },
      "source": [
        "import os\n",
        "import csv   \n",
        "import json\n",
        "import numpy as np\n",
        "from numpy import asarray\n",
        "from numpy import save\n",
        "from keras.preprocessing.image import load_img\n",
        "from keras.preprocessing.image import img_to_array\n",
        "from sklearn.model_selection import train_test_split\n",
        "from matplotlib import pyplot\n",
        "from matplotlib.image import imread\n",
        "\n",
        "from keras.applications.vgg16 import VGG16\n",
        "from keras.applications.vgg16 import preprocess_input\n",
        "from keras.preprocessing.image import ImageDataGenerator\n",
        "from keras import Sequential\n",
        "from keras.layers import Flatten,Dense,BatchNormalization,Activation,Dropout,Conv2D,MaxPooling2D\n",
        "from keras.optimizers import SGD,Adam\n",
        "from keras.regularizers import l1\n",
        "from sklearn.model_selection import KFold\n",
        "from keras.models import model_from_json\n",
        "from sklearn.metrics import classification_report\n",
        "\n",
        "from google.colab import auth\n",
        "auth.authenticate_user()\n",
        "import gspread\n",
        "from oauth2client.client import GoogleCredentials\n",
        "\n",
        "gc = gspread.authorize(GoogleCredentials.get_application_default())\n",
        "\n",
        "target_height = 200\n",
        "target_width = 200\n",
        "classes_dir = './classes/'"
      ],
      "execution_count": null,
      "outputs": []
    },
    {
      "cell_type": "code",
      "metadata": {
        "id": "VjDOuqT34JHh"
      },
      "source": [
        "def load_dataset():\n",
        "  classes = os.listdir(classes_dir)\n",
        "  train_photos, test_photos, train_labels, test_labels, train_paths, test_paths = list(), list(), list(), list(), list(), list()\n",
        "\n",
        "  def get_encoding(class_name):\n",
        "    return list(map(lambda c: 1 if c == class_name else 0, classes))\n",
        "\n",
        "  for each in classes:\n",
        "    i = 0;\n",
        "    for image in os.listdir(classes_dir + each):\n",
        "      output = get_encoding(each)\n",
        "      photo = load_img(classes_dir + each + \"/\" + image, target_size=(target_height, target_width))\n",
        "      photo = img_to_array(photo)\n",
        "\n",
        "      if i > 2:\n",
        "        train_photos.append(photo)\n",
        "        train_labels.append(output)\n",
        "        train_paths.append(each + \"/\" + image)\n",
        "      else:\n",
        "        test_photos.append(photo)\n",
        "        test_labels.append(output)\n",
        "        test_paths.append(each + \"/\" + image)\n",
        "      i += 1;\n",
        "\n",
        "  X_train = asarray(train_photos)\n",
        "  y_train = asarray(train_labels)\n",
        "  X_test = asarray(test_photos)\n",
        "  y_test = asarray(test_labels)\n",
        "  train_paths = asarray(train_paths)\n",
        "  test_paths = asarray(test_paths)\n",
        "\n",
        "\n",
        "  return classes, X_train, y_train, X_test, y_test, train_paths, test_paths"
      ],
      "execution_count": null,
      "outputs": []
    },
    {
      "cell_type": "code",
      "metadata": {
        "id": "ZUqDceX8Ee1g"
      },
      "source": [
        "def build_model():\n",
        "  model = Sequential()\n",
        "  model.add(Conv2D(32, (3, 3), activation='relu', kernel_initializer='he_uniform', input_shape=(target_height, target_width, 3)))\n",
        "  model.add(MaxPooling2D((2, 2)))\n",
        "  model.add(Flatten())\n",
        "  model.add(Dense(100, activation='relu', kernel_initializer='he_uniform'))\n",
        "  model.add(Dropout(0.2))\n",
        "  model.add(Dense(6, activation='softmax'))\n",
        "\n",
        "  # opt = Adam(lr=0.001)\n",
        "  opt = SGD(lr=0.01, momentum=0.5)\n",
        "  model.compile(optimizer=opt,loss='categorical_crossentropy',metrics=['accuracy'])\n",
        "  return model"
      ],
      "execution_count": null,
      "outputs": []
    },
    {
      "cell_type": "code",
      "metadata": {
        "id": "nqtOfaE5tUEa"
      },
      "source": [
        "def train_model(model, dataX, dataY, testX, testY):\n",
        "  datagen = ImageDataGenerator(rescale=1./255)\n",
        "  testgen = ImageDataGenerator(rescale=1./255)\n",
        "\n",
        "  history = model.fit(datagen.flow(dataX, dataY), epochs=20, validation_data=testgen.flow(testX, testY), verbose=1)\n",
        "  _, acc = model.evaluate(testX, testY, verbose=0)\n",
        "  print('> %.3f' % (acc * 100.0))\n",
        "\n",
        "  return model, history, acc\n"
      ],
      "execution_count": null,
      "outputs": []
    },
    {
      "cell_type": "code",
      "metadata": {
        "id": "ZoT_JcdxC_RX"
      },
      "source": [
        "def plot_metrics(history):\n",
        "  fig, (ax1, ax2) = pyplot.subplots(2)\n",
        "  plot_loss(history, ax1)\n",
        "  plot_accuracy(history, ax2)\n",
        "\n",
        "def plot_loss(each, ax):\n",
        "  ax.set_title('Cross Entropy Loss')\n",
        "  ax.plot(each.history['loss'], color='blue', label='train')\n",
        "  ax.plot(each.history['val_loss'], color='orange', label='test')\n",
        "\n",
        "def plot_accuracy(each, ax):\n",
        "  ax.set_title('Classification Accuracy')\n",
        "  ax.plot(each.history['accuracy'], color='blue', label='train')\n",
        "  ax.plot(each.history['val_accuracy'], color='orange', label='test')\n"
      ],
      "execution_count": null,
      "outputs": []
    },
    {
      "cell_type": "code",
      "metadata": {
        "id": "3FL7o4lBhLhk"
      },
      "source": [
        "def decode(vals):\n",
        "  return list(map(lambda x: list_to_num(x), vals))\n",
        "\n",
        "def list_to_num(ls):\n",
        "  res = 1\n",
        "  for i in range(len(ls)):\n",
        "    if ls[i] == 1:\n",
        "      res = i\n",
        "      break\n",
        "  return res\n",
        "\n",
        "def get_table_metrics(model, classes, testX, testY):\n",
        "  print(classification_report(decode(testY), decode(model.predict(testX)), target_names=classes))\n",
        "  return json.dumps(classification_report(decode(testY), decode(model.predict(testX)), target_names=classes, output_dict=True))"
      ],
      "execution_count": null,
      "outputs": []
    },
    {
      "cell_type": "code",
      "metadata": {
        "id": "BiuC1PfHnM0i"
      },
      "source": [
        "def save_model(model):\n",
        "  fd_model = os.open('./models/basic_classification.json', os.O_RDWR|os.O_CREAT) \n",
        "  model_json = model.to_json()\n",
        "  os.write(fd_model, bytes(model_json, 'utf-8'))\n",
        "  os.close(fd_model)\n",
        "\n",
        "  model.save_weights(\"./weights/basic_classification.h5\")\n",
        "  print(\"Saved model to disk\")"
      ],
      "execution_count": null,
      "outputs": []
    },
    {
      "cell_type": "code",
      "metadata": {
        "id": "Aq6gp1ILNzov"
      },
      "source": [
        "def write_to_output(model, classes, dataX, dataY, paths, is_test):\n",
        "  def next_available_row(worksheet):\n",
        "    str_list = list(filter(None, worksheet.col_values(1)))\n",
        "    return len(str_list)+1\n",
        "\n",
        "  worksheet = gc.open('results').worksheet('basic')\n",
        "  row = next_available_row(worksheet)\n",
        "\n",
        "  for i in range(len(dataX)):\n",
        "    first_row = str(row)\n",
        "    worksheet.update_acell(\"A{}\".format(first_row), 'basic')\n",
        "    worksheet.update_acell(\"B{}\".format(first_row), 'softmax')\n",
        "    worksheet.update_acell(\"C{}\".format(first_row), False)\n",
        "    worksheet.update_acell(\"D{}\".format(first_row), 'test' if is_test else 'train')\n",
        "    worksheet.update_acell(\"E{}\".format(first_row), 'classes')\n",
        "    worksheet.update_acell(\"F{}\".format(first_row), str(paths[i]))\n",
        "    worksheet.update_acell(\"G{}\".format(first_row), classes[list_to_num(dataY[i])])\n",
        "    worksheet.update_acell(\"H{}\".format(first_row), classes[decode(model.predict(dataX[i:i+1]))[0]])\n",
        "\n",
        "    row += 1\n",
        "\n",
        "  print('Written to output CSV')\n"
      ],
      "execution_count": null,
      "outputs": []
    },
    {
      "cell_type": "code",
      "metadata": {
        "id": "BWb0jaMgFWbp",
        "outputId": "ba2e1f27-6678-43ee-828e-be223b577d2c",
        "colab": {
          "base_uri": "https://localhost:8080/",
          "height": 1000
        }
      },
      "source": [
        "classes, trainX, trainY, testX, testY, train_paths, test_paths = load_dataset()\n",
        "\n",
        "model = build_model()\n",
        "\n",
        "model, hists, accs = train_model(model, trainX, trainY, testX, testY)\n",
        "\n",
        "plot_metrics(hists)\n",
        "\n",
        "report = get_table_metrics(model, classes, testX, testY)"
      ],
      "execution_count": null,
      "outputs": [
        {
          "output_type": "stream",
          "text": [
            "Epoch 1/20\n",
            "2/2 [==============================] - 0s 80ms/step - loss: 29.2892 - accuracy: 0.1731 - val_loss: 20.5372 - val_accuracy: 0.1667\n",
            "Epoch 2/20\n",
            "2/2 [==============================] - 0s 27ms/step - loss: 11.5219 - accuracy: 0.2500 - val_loss: 1.7108 - val_accuracy: 0.3889\n",
            "Epoch 3/20\n",
            "2/2 [==============================] - 0s 27ms/step - loss: 1.7078 - accuracy: 0.3462 - val_loss: 1.6171 - val_accuracy: 0.5000\n",
            "Epoch 4/20\n",
            "2/2 [==============================] - 0s 29ms/step - loss: 1.6147 - accuracy: 0.4423 - val_loss: 1.5162 - val_accuracy: 0.6111\n",
            "Epoch 5/20\n",
            "2/2 [==============================] - 0s 29ms/step - loss: 1.4541 - accuracy: 0.5962 - val_loss: 1.4115 - val_accuracy: 0.6667\n",
            "Epoch 6/20\n",
            "2/2 [==============================] - 0s 32ms/step - loss: 1.3332 - accuracy: 0.6923 - val_loss: 1.3074 - val_accuracy: 0.7222\n",
            "Epoch 7/20\n",
            "2/2 [==============================] - 0s 31ms/step - loss: 1.1800 - accuracy: 0.7115 - val_loss: 1.1961 - val_accuracy: 0.7222\n",
            "Epoch 8/20\n",
            "2/2 [==============================] - 0s 27ms/step - loss: 1.1269 - accuracy: 0.8077 - val_loss: 1.0984 - val_accuracy: 0.8333\n",
            "Epoch 9/20\n",
            "2/2 [==============================] - 0s 31ms/step - loss: 1.0090 - accuracy: 0.8269 - val_loss: 0.9761 - val_accuracy: 0.8889\n",
            "Epoch 10/20\n",
            "2/2 [==============================] - 0s 31ms/step - loss: 0.8480 - accuracy: 0.9038 - val_loss: 0.8722 - val_accuracy: 0.7778\n",
            "Epoch 11/20\n",
            "2/2 [==============================] - 0s 34ms/step - loss: 0.6749 - accuracy: 0.9615 - val_loss: 0.7733 - val_accuracy: 0.8889\n",
            "Epoch 12/20\n",
            "2/2 [==============================] - 0s 32ms/step - loss: 0.6339 - accuracy: 0.9231 - val_loss: 0.6926 - val_accuracy: 0.8889\n",
            "Epoch 13/20\n",
            "2/2 [==============================] - 0s 32ms/step - loss: 0.5550 - accuracy: 0.9231 - val_loss: 0.6341 - val_accuracy: 0.8889\n",
            "Epoch 14/20\n",
            "2/2 [==============================] - 0s 32ms/step - loss: 0.5083 - accuracy: 0.9231 - val_loss: 0.5685 - val_accuracy: 0.8889\n",
            "Epoch 15/20\n",
            "2/2 [==============================] - 0s 31ms/step - loss: 0.4687 - accuracy: 0.9808 - val_loss: 0.5114 - val_accuracy: 0.8889\n",
            "Epoch 16/20\n",
            "2/2 [==============================] - 0s 27ms/step - loss: 0.3600 - accuracy: 0.9808 - val_loss: 0.4986 - val_accuracy: 0.8889\n",
            "Epoch 17/20\n",
            "2/2 [==============================] - 0s 32ms/step - loss: 0.3839 - accuracy: 0.9615 - val_loss: 0.4369 - val_accuracy: 0.8889\n",
            "Epoch 18/20\n",
            "2/2 [==============================] - 0s 29ms/step - loss: 0.2736 - accuracy: 0.9808 - val_loss: 0.4118 - val_accuracy: 0.8333\n",
            "Epoch 19/20\n",
            "2/2 [==============================] - 0s 30ms/step - loss: 0.2845 - accuracy: 0.9423 - val_loss: 0.3816 - val_accuracy: 0.9444\n",
            "Epoch 20/20\n",
            "2/2 [==============================] - 0s 29ms/step - loss: 0.2003 - accuracy: 0.9808 - val_loss: 0.3450 - val_accuracy: 0.8889\n",
            "> 94.444\n",
            "              precision    recall  f1-score   support\n",
            "\n",
            "        blur       1.00      1.00      1.00         3\n",
            "      normal       0.50      0.67      0.57         3\n",
            "        dark       1.00      0.67      0.80         3\n",
            "       glare       0.67      0.67      0.67         3\n",
            "     damaged       1.00      1.00      1.00         3\n",
            "     covered       1.00      1.00      1.00         3\n",
            "\n",
            "    accuracy                           0.83        18\n",
            "   macro avg       0.86      0.83      0.84        18\n",
            "weighted avg       0.86      0.83      0.84        18\n",
            "\n"
          ],
          "name": "stdout"
        },
        {
          "output_type": "display_data",
          "data": {
            "image/png": "[encoded data removed]",
            "text/plain": [
              "<Figure size 432x288 with 2 Axes>"
            ]
          },
          "metadata": {
            "tags": [],
            "needs_background": "light"
          }
        }
      ]
    },
    {
      "cell_type": "code",
      "metadata": {
        "id": "2M8khCormgmH",
        "outputId": "76665364-3413-48fd-a9a7-675e5f66c2e4",
        "colab": {
          "base_uri": "https://localhost:8080/",
          "height": 35
        }
      },
      "source": [
        "save_model(model)\n",
        "\n",
        "write_to_output(model, classes, trainX, trainY, train_paths, False)"
      ],
      "execution_count": null,
      "outputs": [
        {
          "output_type": "stream",
          "text": [
            "Written to output CSV\n"
          ],
          "name": "stdout"
        }
      ]
    }
  ]
}