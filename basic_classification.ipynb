{
  "nbformat": 4,
  "nbformat_minor": 0,
  "metadata": {
    "colab": {
      "name": "basic_classification.ipynb",
      "provenance": [],
      "collapsed_sections": [],
      "authorship_tag": "ABX9TyNOfq/Txl/H+ToHuokCaob+",
      "include_colab_link": true
    },
    "kernelspec": {
      "name": "python3",
      "display_name": "Python 3"
    },
    "accelerator": "GPU"
  },
  "cells": [
    {
      "cell_type": "markdown",
      "metadata": {
        "id": "view-in-github",
        "colab_type": "text"
      },
      "source": [
        "<a href=\"https://colab.research.google.com/github/jinxianyap/classification-models/blob/master/basic_classification.ipynb\" target=\"_parent\"><img src=\"https://colab.research.google.com/assets/colab-badge.svg\" alt=\"Open In Colab\"/></a>"
      ]
    },
    {
      "cell_type": "code",
      "metadata": {
        "id": "-60z8fuYkJsG",
        "outputId": "597c62a7-7c42-4fda-93a4-076c91dc10dd",
        "colab": {
          "base_uri": "https://localhost:8080/",
          "height": 341
        }
      },
      "source": [
        "!pip install --upgrade gspread\n",
        "\n",
        "from google.colab import drive\n",
        "drive.mount('/gdrive')\n",
        "%cd /gdrive/My\\ Drive/WISE AI/Classification"
      ],
      "execution_count": 65,
      "outputs": [
        {
          "output_type": "stream",
          "text": [
            "Requirement already up-to-date: gspread in /usr/local/lib/python3.6/dist-packages (3.6.0)\n",
            "Requirement already satisfied, skipping upgrade: google-auth>=1.12.0 in /usr/local/lib/python3.6/dist-packages (from gspread) (1.17.2)\n",
            "Requirement already satisfied, skipping upgrade: google-auth-oauthlib>=0.4.1 in /usr/local/lib/python3.6/dist-packages (from gspread) (0.4.1)\n",
            "Requirement already satisfied, skipping upgrade: requests>=2.2.1 in /usr/local/lib/python3.6/dist-packages (from gspread) (2.23.0)\n",
            "Requirement already satisfied, skipping upgrade: rsa<5,>=3.1.4; python_version >= \"3\" in /usr/local/lib/python3.6/dist-packages (from google-auth>=1.12.0->gspread) (4.6)\n",
            "Requirement already satisfied, skipping upgrade: six>=1.9.0 in /usr/local/lib/python3.6/dist-packages (from google-auth>=1.12.0->gspread) (1.15.0)\n",
            "Requirement already satisfied, skipping upgrade: setuptools>=40.3.0 in /usr/local/lib/python3.6/dist-packages (from google-auth>=1.12.0->gspread) (50.3.0)\n",
            "Requirement already satisfied, skipping upgrade: cachetools<5.0,>=2.0.0 in /usr/local/lib/python3.6/dist-packages (from google-auth>=1.12.0->gspread) (4.1.1)\n",
            "Requirement already satisfied, skipping upgrade: pyasn1-modules>=0.2.1 in /usr/local/lib/python3.6/dist-packages (from google-auth>=1.12.0->gspread) (0.2.8)\n",
            "Requirement already satisfied, skipping upgrade: requests-oauthlib>=0.7.0 in /usr/local/lib/python3.6/dist-packages (from google-auth-oauthlib>=0.4.1->gspread) (1.3.0)\n",
            "Requirement already satisfied, skipping upgrade: idna<3,>=2.5 in /usr/local/lib/python3.6/dist-packages (from requests>=2.2.1->gspread) (2.10)\n",
            "Requirement already satisfied, skipping upgrade: urllib3!=1.25.0,!=1.25.1,<1.26,>=1.21.1 in /usr/local/lib/python3.6/dist-packages (from requests>=2.2.1->gspread) (1.24.3)\n",
            "Requirement already satisfied, skipping upgrade: chardet<4,>=3.0.2 in /usr/local/lib/python3.6/dist-packages (from requests>=2.2.1->gspread) (3.0.4)\n",
            "Requirement already satisfied, skipping upgrade: certifi>=2017.4.17 in /usr/local/lib/python3.6/dist-packages (from requests>=2.2.1->gspread) (2020.6.20)\n",
            "Requirement already satisfied, skipping upgrade: pyasn1>=0.1.3 in /usr/local/lib/python3.6/dist-packages (from rsa<5,>=3.1.4; python_version >= \"3\"->google-auth>=1.12.0->gspread) (0.4.8)\n",
            "Requirement already satisfied, skipping upgrade: oauthlib>=3.0.0 in /usr/local/lib/python3.6/dist-packages (from requests-oauthlib>=0.7.0->google-auth-oauthlib>=0.4.1->gspread) (3.1.0)\n",
            "Drive already mounted at /gdrive; to attempt to forcibly remount, call drive.mount(\"/gdrive\", force_remount=True).\n",
            "/gdrive/My Drive/WISE AI/Classification\n"
          ],
          "name": "stdout"
        }
      ]
    },
    {
      "cell_type": "code",
      "metadata": {
        "id": "Bznnb18LEK62"
      },
      "source": [
        "import os\n",
        "import csv   \n",
        "import json\n",
        "import numpy as np\n",
        "from numpy import asarray\n",
        "from numpy import save\n",
        "from keras.preprocessing.image import load_img\n",
        "from keras.preprocessing.image import img_to_array\n",
        "from sklearn.model_selection import train_test_split\n",
        "from matplotlib import pyplot\n",
        "from matplotlib.image import imread\n",
        "\n",
        "from keras.applications.vgg16 import VGG16\n",
        "from keras.applications.vgg16 import preprocess_input\n",
        "from keras.preprocessing.image import ImageDataGenerator\n",
        "from keras import Sequential\n",
        "from keras.layers import Flatten,Dense,BatchNormalization,Activation,Dropout,Conv2D,MaxPooling2D\n",
        "from keras.optimizers import SGD,Adam\n",
        "from keras.regularizers import l1\n",
        "from sklearn.model_selection import KFold\n",
        "from keras.models import model_from_json\n",
        "from sklearn.metrics import classification_report\n",
        "\n",
        "from google.colab import auth\n",
        "auth.authenticate_user()\n",
        "import gspread\n",
        "from oauth2client.client import GoogleCredentials\n",
        "\n",
        "gc = gspread.authorize(GoogleCredentials.get_application_default())\n",
        "\n",
        "target_height = 200\n",
        "target_width = 200\n",
        "classes_dir = './classes/'"
      ],
      "execution_count": 66,
      "outputs": []
    },
    {
      "cell_type": "code",
      "metadata": {
        "id": "VjDOuqT34JHh"
      },
      "source": [
        "def load_dataset():\n",
        "  classes = os.listdir(classes_dir)\n",
        "  train_photos, test_photos, train_labels, test_labels, test_paths = list(), list(), list(), list(), list();\n",
        "\n",
        "  def get_encoding(class_name):\n",
        "    return list(map(lambda c: 1 if c == class_name else 0, classes))\n",
        "\n",
        "  for each in classes:\n",
        "    i = 0;\n",
        "    for image in os.listdir(classes_dir + each):\n",
        "      output = get_encoding(each)\n",
        "      photo = load_img(classes_dir + each + \"/\" + image, target_size=(target_height, target_width))\n",
        "      photo = img_to_array(photo)\n",
        "\n",
        "      if i > 2:\n",
        "        train_photos.append(photo)\n",
        "        train_labels.append(output)\n",
        "      else:\n",
        "        test_photos.append(photo)\n",
        "        test_labels.append(output)\n",
        "        test_paths.append(each + \"/\" + image);\n",
        "      i += 1;\n",
        "\n",
        "  X_train = asarray(train_photos)\n",
        "  y_train = asarray(train_labels)\n",
        "  X_test = asarray(test_photos)\n",
        "  y_test = asarray(test_labels)\n",
        "  test_paths = asarray(test_paths)\n",
        "\n",
        "  return classes, X_train, y_train, X_test, y_test, test_paths"
      ],
      "execution_count": 67,
      "outputs": []
    },
    {
      "cell_type": "code",
      "metadata": {
        "id": "ZUqDceX8Ee1g"
      },
      "source": [
        "def build_model():\n",
        "  model = Sequential()\n",
        "  model.add(Conv2D(32, (3, 3), activation='relu', kernel_initializer='he_uniform', input_shape=(target_height, target_width, 3)))\n",
        "  model.add(MaxPooling2D((2, 2)))\n",
        "  model.add(Flatten())\n",
        "  model.add(Dense(100, activation='relu', kernel_initializer='he_uniform'))\n",
        "  model.add(Dropout(0.2))\n",
        "  model.add(Dense(6, activation='softmax'))\n",
        "\n",
        "  # opt = Adam(lr=0.001)\n",
        "  opt = SGD(lr=0.01, momentum=0.5)\n",
        "  model.compile(optimizer=opt,loss='categorical_crossentropy',metrics=['accuracy'])\n",
        "  return model"
      ],
      "execution_count": 87,
      "outputs": []
    },
    {
      "cell_type": "code",
      "metadata": {
        "id": "nqtOfaE5tUEa"
      },
      "source": [
        "def train_model(model, dataX, dataY, testX, testY):\n",
        "  datagen = ImageDataGenerator(rescale=1./255)\n",
        "  testgen = ImageDataGenerator(rescale=1./255)\n",
        "\n",
        "  history = model.fit(datagen.flow(dataX, dataY), epochs=20, validation_data=testgen.flow(testX, testY), verbose=1)\n",
        "  _, acc = model.evaluate(testX, testY, verbose=0)\n",
        "  print('> %.3f' % (acc * 100.0))\n",
        "\n",
        "  return model, history, acc\n"
      ],
      "execution_count": 97,
      "outputs": []
    },
    {
      "cell_type": "code",
      "metadata": {
        "id": "ZoT_JcdxC_RX"
      },
      "source": [
        "def plot_metrics(history):\n",
        "  fig, (ax1, ax2) = pyplot.subplots(2)\n",
        "  plot_loss(history, ax1)\n",
        "  plot_accuracy(history, ax2)\n",
        "\n",
        "def plot_loss(each, ax):\n",
        "  ax.set_title('Cross Entropy Loss')\n",
        "  ax.plot(each.history['loss'], color='blue', label='train')\n",
        "  ax.plot(each.history['val_loss'], color='orange', label='test')\n",
        "\n",
        "def plot_accuracy(each, ax):\n",
        "  ax.set_title('Classification Accuracy')\n",
        "  ax.plot(each.history['accuracy'], color='blue', label='train')\n",
        "  ax.plot(each.history['val_accuracy'], color='orange', label='test')\n"
      ],
      "execution_count": 70,
      "outputs": []
    },
    {
      "cell_type": "code",
      "metadata": {
        "id": "3FL7o4lBhLhk"
      },
      "source": [
        "def get_table_metrics(model, classes, testX, testY):\n",
        "  def decode(vals):\n",
        "    return list(map(lambda x: list_to_num(x), vals))\n",
        "\n",
        "  def list_to_num(ls):\n",
        "    res = 1\n",
        "    for i in range(len(ls)):\n",
        "      if ls[i] == 1:\n",
        "        res = i\n",
        "        break\n",
        "    return res\n",
        "\n",
        "  print(classification_report(decode(testY), decode(model.predict(testX)), target_names=classes))\n",
        "  return json.dumps(classification_report(decode(testY), decode(model.predict(testX)), target_names=classes, output_dict=True))"
      ],
      "execution_count": 71,
      "outputs": []
    },
    {
      "cell_type": "code",
      "metadata": {
        "id": "BiuC1PfHnM0i"
      },
      "source": [
        "def save_model(model):\n",
        "  fd_model = os.open('./models/basic_classification.json', os.O_RDWR|os.O_CREAT) \n",
        "  model_json = model.to_json()\n",
        "  os.write(fd_model, bytes(model_json, 'utf-8'))\n",
        "  os.close(fd_model)\n",
        "\n",
        "  model.save_weights(\"./weights/basic_classification.h5\")\n",
        "  print(\"Saved model to disk\")"
      ],
      "execution_count": 72,
      "outputs": []
    },
    {
      "cell_type": "code",
      "metadata": {
        "id": "Aq6gp1ILNzov"
      },
      "source": [
        "def write_to_output(report):\n",
        "  def next_available_row(worksheet):\n",
        "    str_list = list(filter(None, worksheet.col_values(1)))\n",
        "    return str(len(str_list)+1)\n",
        "\n",
        "  worksheet = gc.open('results').sheet1\n",
        "  first_row = next_available_row(worksheet)\n",
        "\n",
        "  worksheet.update_acell(\"A{}\".format(first_row), 'basic')\n",
        "  worksheet.update_acell(\"B{}\".format(first_row), 'softmax')\n",
        "  worksheet.update_acell(\"C{}\".format(first_row), False)\n",
        "  worksheet.update_acell(\"D{}\".format(first_row), 'test')\n",
        "  worksheet.update_acell(\"E{}\".format(first_row), 'classes')\n",
        "  worksheet.update_acell(\"F{}\".format(first_row), report)\n",
        "\n",
        "  print('Written to output CSV')\n"
      ],
      "execution_count": 106,
      "outputs": []
    },
    {
      "cell_type": "code",
      "metadata": {
        "id": "BWb0jaMgFWbp",
        "outputId": "7628f6d9-a7b7-4a7c-9e56-c607547b9120",
        "colab": {
          "base_uri": "https://localhost:8080/",
          "height": 1000
        }
      },
      "source": [
        "classes, trainX, trainY, testX, testY, test_paths = load_dataset()\n",
        "\n",
        "model = build_model()\n",
        "\n",
        "model, hists, accs = train_model(model, trainX, trainY, testX, testY)\n",
        "\n",
        "plot_metrics(hists)\n",
        "\n",
        "report = get_table_metrics(model, classes, testX, testY)"
      ],
      "execution_count": 116,
      "outputs": [
        {
          "output_type": "stream",
          "text": [
            "Epoch 1/20\n",
            "2/2 [==============================] - 0s 123ms/step - loss: 31.8160 - accuracy: 0.1731 - val_loss: 139.4253 - val_accuracy: 0.1667\n",
            "Epoch 2/20\n",
            "2/2 [==============================] - 0s 44ms/step - loss: 80.9347 - accuracy: 0.1538 - val_loss: 1.7810 - val_accuracy: 0.1667\n",
            "Epoch 3/20\n",
            "2/2 [==============================] - 0s 46ms/step - loss: 1.7697 - accuracy: 0.2308 - val_loss: 1.7516 - val_accuracy: 0.2778\n",
            "Epoch 4/20\n",
            "2/2 [==============================] - 0s 43ms/step - loss: 1.7154 - accuracy: 0.3654 - val_loss: 1.6965 - val_accuracy: 0.1667\n",
            "Epoch 5/20\n",
            "2/2 [==============================] - 0s 46ms/step - loss: 1.6531 - accuracy: 0.3077 - val_loss: 1.6369 - val_accuracy: 0.1667\n",
            "Epoch 6/20\n",
            "2/2 [==============================] - 0s 40ms/step - loss: 1.5818 - accuracy: 0.3077 - val_loss: 1.5688 - val_accuracy: 0.3333\n",
            "Epoch 7/20\n",
            "2/2 [==============================] - 0s 41ms/step - loss: 1.5393 - accuracy: 0.5385 - val_loss: 1.4855 - val_accuracy: 0.5000\n",
            "Epoch 8/20\n",
            "2/2 [==============================] - 0s 39ms/step - loss: 1.4288 - accuracy: 0.5962 - val_loss: 1.4041 - val_accuracy: 0.5000\n",
            "Epoch 9/20\n",
            "2/2 [==============================] - 0s 38ms/step - loss: 1.3823 - accuracy: 0.5769 - val_loss: 1.3491 - val_accuracy: 0.6667\n",
            "Epoch 10/20\n",
            "2/2 [==============================] - 0s 39ms/step - loss: 1.3123 - accuracy: 0.7885 - val_loss: 1.2575 - val_accuracy: 0.6667\n",
            "Epoch 11/20\n",
            "2/2 [==============================] - 0s 39ms/step - loss: 1.1635 - accuracy: 0.8654 - val_loss: 1.1192 - val_accuracy: 0.8333\n",
            "Epoch 12/20\n",
            "2/2 [==============================] - 0s 38ms/step - loss: 1.0627 - accuracy: 0.9038 - val_loss: 1.0169 - val_accuracy: 0.8333\n",
            "Epoch 13/20\n",
            "2/2 [==============================] - 0s 37ms/step - loss: 0.9735 - accuracy: 0.9423 - val_loss: 0.9085 - val_accuracy: 0.8333\n",
            "Epoch 14/20\n",
            "2/2 [==============================] - 0s 38ms/step - loss: 0.7979 - accuracy: 0.9231 - val_loss: 0.7354 - val_accuracy: 0.8333\n",
            "Epoch 15/20\n",
            "2/2 [==============================] - 0s 39ms/step - loss: 0.6877 - accuracy: 0.8846 - val_loss: 0.6224 - val_accuracy: 0.8333\n",
            "Epoch 16/20\n",
            "2/2 [==============================] - 0s 40ms/step - loss: 0.5753 - accuracy: 0.9615 - val_loss: 0.5156 - val_accuracy: 0.8333\n",
            "Epoch 17/20\n",
            "2/2 [==============================] - 0s 37ms/step - loss: 0.5308 - accuracy: 0.9231 - val_loss: 0.5847 - val_accuracy: 0.7222\n",
            "Epoch 18/20\n",
            "2/2 [==============================] - 0s 37ms/step - loss: 0.5466 - accuracy: 0.8269 - val_loss: 0.7251 - val_accuracy: 0.6667\n",
            "Epoch 19/20\n",
            "2/2 [==============================] - 0s 37ms/step - loss: 0.5891 - accuracy: 0.9038 - val_loss: 0.5128 - val_accuracy: 0.8889\n",
            "Epoch 20/20\n",
            "2/2 [==============================] - 0s 38ms/step - loss: 0.3958 - accuracy: 0.9615 - val_loss: 0.3941 - val_accuracy: 0.8889\n",
            "> 77.778\n",
            "WARNING:tensorflow:6 out of the last 11 calls to <function Model.make_predict_function.<locals>.predict_function at 0x7f6be73ecea0> triggered tf.function retracing. Tracing is expensive and the excessive number of tracings could be due to (1) creating @tf.function repeatedly in a loop, (2) passing tensors with different shapes, (3) passing Python objects instead of tensors. For (1), please define your @tf.function outside of the loop. For (2), @tf.function has experimental_relax_shapes=True option that relaxes argument shapes that can avoid unnecessary retracing. For (3), please refer to https://www.tensorflow.org/tutorials/customization/performance#python_or_tensor_args and https://www.tensorflow.org/api_docs/python/tf/function for  more details.\n",
            "              precision    recall  f1-score   support\n",
            "\n",
            "        blur       1.00      1.00      1.00         3\n",
            "      normal       0.40      0.67      0.50         3\n",
            "        dark       1.00      0.67      0.80         3\n",
            "       glare       0.67      0.67      0.67         3\n",
            "     damaged       1.00      0.67      0.80         3\n",
            "     covered       1.00      1.00      1.00         3\n",
            "\n",
            "    accuracy                           0.78        18\n",
            "   macro avg       0.84      0.78      0.79        18\n",
            "weighted avg       0.84      0.78      0.79        18\n",
            "\n"
          ],
          "name": "stdout"
        },
        {
          "output_type": "display_data",
          "data": {
            "image/png": "[encoded data removed]",
            "text/plain": [
              "<Figure size 432x288 with 2 Axes>"
            ]
          },
          "metadata": {
            "tags": [],
            "needs_background": "light"
          }
        }
      ]
    },
    {
      "cell_type": "code",
      "metadata": {
        "id": "2M8khCormgmH",
        "outputId": "313a7263-a07a-4b42-9919-b10c0016dbc4",
        "colab": {
          "base_uri": "https://localhost:8080/",
          "height": 35
        }
      },
      "source": [
        "save_model(model)\n",
        "\n",
        "write_to_output(report)"
      ],
      "execution_count": 117,
      "outputs": [
        {
          "output_type": "stream",
          "text": [
            "Written to output CSV\n"
          ],
          "name": "stdout"
        }
      ]
    }
  ]
}