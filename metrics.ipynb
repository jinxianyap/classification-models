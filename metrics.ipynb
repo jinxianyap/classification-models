{
  "nbformat": 4,
  "nbformat_minor": 0,
  "metadata": {
    "colab": {
      "name": "metrics.ipynb",
      "provenance": [],
      "collapsed_sections": [],
      "authorship_tag": "ABX9TyOoToytRjhfBxEm9YUyD1yb",
      "include_colab_link": true
    },
    "kernelspec": {
      "name": "python3",
      "display_name": "Python 3"
    }
  },
  "cells": [
    {
      "cell_type": "markdown",
      "metadata": {
        "id": "view-in-github",
        "colab_type": "text"
      },
      "source": [
        "<a href=\"https://colab.research.google.com/github/jinxianyap/classification-models/blob/master/metrics.ipynb\" target=\"_parent\"><img src=\"https://colab.research.google.com/assets/colab-badge.svg\" alt=\"Open In Colab\"/></a>"
      ]
    },
    {
      "cell_type": "code",
      "metadata": {
        "id": "vrguaWDxSZkj",
        "outputId": "b550d1ba-b5bd-4cdc-a763-6691bec062f0",
        "colab": {
          "base_uri": "https://localhost:8080/",
          "height": 53
        }
      },
      "source": [
        "from google.colab import drive\n",
        "drive.mount('/gdrive')\n",
        "%cd /gdrive/My\\ Drive/WISE AI/Classification"
      ],
      "execution_count": 185,
      "outputs": [
        {
          "output_type": "stream",
          "text": [
            "Drive already mounted at /gdrive; to attempt to forcibly remount, call drive.mount(\"/gdrive\", force_remount=True).\n",
            "/gdrive/My Drive/WISE AI/Classification\n"
          ],
          "name": "stdout"
        }
      ]
    },
    {
      "cell_type": "code",
      "metadata": {
        "id": "yjMTu-o7SSPG"
      },
      "source": [
        "from keras.models import model_from_json\n",
        "import numpy \n",
        "import os\n",
        "import math\n",
        "from keras.preprocessing.image import load_img\n",
        "from keras.preprocessing.image import img_to_array\n",
        "from numpy import asarray\n",
        "from keras.optimizers import SGD,Adam\n",
        "from sklearn.model_selection import train_test_split\n",
        "\n",
        "target_height = 200\n",
        "target_width = 200"
      ],
      "execution_count": 186,
      "outputs": []
    },
    {
      "cell_type": "code",
      "metadata": {
        "id": "vXbX0eDPTMR6"
      },
      "source": [
        "def load_dataset():\n",
        "  categories = ['blur', 'normal', 'dark', 'glare', 'damaged', 'covered']\n",
        "  classes = os.listdir('./classes')\n",
        "  train_photos, test_photos, train_labels, test_labels = list(), list(), list(), list()\n",
        "\n",
        "  def get_encoding(class_name):\n",
        "    return list(map(lambda c: 1 if c == class_name else 0, categories))\n",
        "\n",
        "  for each in classes:\n",
        "    i = 0;\n",
        "    for image in os.listdir('./classes/' + each):\n",
        "      output = get_encoding(each)\n",
        "      photo = load_img('./classes/' + each + \"/\" + image, target_size=(target_height, target_width))\n",
        "      photo = img_to_array(photo)\n",
        "\n",
        "      if i > 2:\n",
        "        train_photos.append(photo)\n",
        "        train_labels.append(output)\n",
        "      else:\n",
        "        test_photos.append(photo)\n",
        "        test_labels.append(output)\n",
        "      i += 1;\n",
        "\n",
        "  X_train = asarray(train_photos)\n",
        "  y_train = asarray(train_labels)\n",
        "  X_test = asarray(test_photos)\n",
        "  y_test = asarray(test_labels)\n",
        "\n",
        "  return X_train, y_train, X_test, y_test"
      ],
      "execution_count": 187,
      "outputs": []
    },
    {
      "cell_type": "code",
      "metadata": {
        "id": "3sj7AypiSJIZ"
      },
      "source": [
        "def load_basic_classification():\n",
        "  basic_class_file = open('./models/basic_classification.json', 'r')\n",
        "  basic_class_model_json = basic_class_file.read()\n",
        "  basic_class_file.close()\n",
        "  basic_class_model = model_from_json(basic_class_model_json)\n",
        "  basic_class_model.load_weights(\"./weights/basic_classification.h5\")\n",
        "  print(\"Loaded basic classification model from disk\")\n",
        "  \n",
        "  basic_class_model.compile(loss='categorical_crossentropy', optimizer=SGD(lr=0.01, momentum=0.9), metrics=['accuracy'])\n",
        "  return basic_class_model"
      ],
      "execution_count": 188,
      "outputs": []
    },
    {
      "cell_type": "code",
      "metadata": {
        "id": "EStF46rPuUix"
      },
      "source": [
        "def load_multi_label_classification():\n",
        "  multi_label_file = open('./models/multi_label_classification.json', 'r')\n",
        "  multi_label_model_json = multi_label_file.read()\n",
        "  multi_label_file.close()\n",
        "  multi_label_model = model_from_json(multi_label_model_json)\n",
        "  multi_label_model.load_weights(\"./weights/multi_label_classification.h5\")\n",
        "  print(\"Loaded multi label classification model from disk\")\n",
        "  \n",
        "  multi_label_model.compile(loss='binary_crossentropy', optimizer='adam', metrics=['accuracy'])\n",
        "  return multi_label_model"
      ],
      "execution_count": 189,
      "outputs": []
    },
    {
      "cell_type": "code",
      "metadata": {
        "id": "vmYx98rlrkvN"
      },
      "source": [
        "def evaluate_model(model, X, y):\n",
        "  avgs = 0\n",
        "  for i in range(2, 12):\n",
        "    X_split, X_back, y_split, y_back = train_test_split(X, y, test_size=0.3, shuffle=True, random_state=i)\n",
        "    score = model.evaluate(X_back, y_back, verbose=0)\n",
        "    print(\"%s: %.2f%%\" % (model.metrics_names[1], score[1]*100))\n",
        "    avgs = avgs + score[1]\n",
        "\n",
        "  print(\"Average accuracy: %.2f%%\" % (avgs / 10 * 100))"
      ],
      "execution_count": 190,
      "outputs": []
    },
    {
      "cell_type": "code",
      "metadata": {
        "id": "ssyVzxw-TT15",
        "outputId": "d43ea1b6-1fd3-415c-87af-f90690857343",
        "colab": {
          "base_uri": "https://localhost:8080/",
          "height": 449
        }
      },
      "source": [
        "X_train, y_train, X_test, y_test = load_dataset()\n",
        "\n",
        "# basic\n",
        "basic_model = load_basic_classification()\n",
        "evaluate_model(basic_model, X_test, y_test)\n",
        "\n",
        "# multi label\n",
        "multi_label_model = load_multi_label_classification()\n",
        "evaluate_model(multi_label_model, X_test, y_test)\n"
      ],
      "execution_count": 191,
      "outputs": [
        {
          "output_type": "stream",
          "text": [
            "Loaded basic classification model from disk\n",
            "accuracy: 83.33%\n",
            "accuracy: 83.33%\n",
            "accuracy: 83.33%\n",
            "accuracy: 83.33%\n",
            "accuracy: 83.33%\n",
            "accuracy: 66.67%\n",
            "accuracy: 83.33%\n",
            "accuracy: 66.67%\n",
            "accuracy: 100.00%\n",
            "accuracy: 83.33%\n",
            "Average accuracy: 81.67%\n",
            "Loaded multi label classification model from disk\n",
            "accuracy: 83.33%\n",
            "accuracy: 50.00%\n",
            "accuracy: 50.00%\n",
            "accuracy: 83.33%\n",
            "accuracy: 83.33%\n",
            "accuracy: 83.33%\n",
            "accuracy: 66.67%\n",
            "accuracy: 50.00%\n",
            "accuracy: 83.33%\n",
            "accuracy: 83.33%\n",
            "Average accuracy: 71.67%\n"
          ],
          "name": "stdout"
        }
      ]
    }
  ]
}