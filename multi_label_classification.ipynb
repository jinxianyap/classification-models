{
  "nbformat": 4,
  "nbformat_minor": 0,
  "metadata": {
    "colab": {
      "name": "multi_label_classification.ipynb",
      "provenance": [],
      "collapsed_sections": [],
      "authorship_tag": "ABX9TyPQ/PsW0JFSW3/9tJz/ehLj",
      "include_colab_link": true
    },
    "kernelspec": {
      "name": "python3",
      "display_name": "Python 3"
    },
    "accelerator": "GPU"
  },
  "cells": [
    {
      "cell_type": "markdown",
      "metadata": {
        "id": "view-in-github",
        "colab_type": "text"
      },
      "source": [
        "<a href=\"https://colab.research.google.com/github/jinxianyap/classification-models/blob/master/multi_label_classification.ipynb\" target=\"_parent\"><img src=\"https://colab.research.google.com/assets/colab-badge.svg\" alt=\"Open In Colab\"/></a>"
      ]
    },
    {
      "cell_type": "code",
      "metadata": {
        "id": "FL44OhV3VtTQ",
        "outputId": "3923ccd2-f16b-4329-d39b-7b6a11d5e2bc",
        "colab": {
          "base_uri": "https://localhost:8080/",
          "height": 53
        }
      },
      "source": [
        "from google.colab import drive\n",
        "drive.mount('/gdrive')\n",
        "%cd /gdrive/My\\ Drive/WISE AI/Classification"
      ],
      "execution_count": 139,
      "outputs": [
        {
          "output_type": "stream",
          "text": [
            "Drive already mounted at /gdrive; to attempt to forcibly remount, call drive.mount(\"/gdrive\", force_remount=True).\n",
            "/gdrive/My Drive/WISE AI/Classification\n"
          ],
          "name": "stdout"
        }
      ]
    },
    {
      "cell_type": "code",
      "metadata": {
        "id": "4cMWBLNEXHqo"
      },
      "source": [
        "import os\n",
        "import numpy as np\n",
        "from numpy import asarray\n",
        "from numpy import save\n",
        "from keras.preprocessing.image import load_img\n",
        "from keras.preprocessing.image import img_to_array\n",
        "from sklearn.model_selection import train_test_split\n",
        "from matplotlib import pyplot\n",
        "from matplotlib.image import imread\n",
        "\n",
        "from keras.applications.vgg16 import VGG16\n",
        "from keras.applications.vgg16 import preprocess_input\n",
        "from keras.preprocessing.image import ImageDataGenerator\n",
        "from keras import Sequential\n",
        "from keras.layers import Flatten,Dense,BatchNormalization,Activation,Dropout,Conv2D,MaxPooling2D\n",
        "from keras.optimizers import SGD,Adam\n",
        "from keras.regularizers import l1\n",
        "from sklearn.model_selection import KFold\n",
        "from keras.models import model_from_json\n",
        "\n",
        "target_height = 200\n",
        "target_width = 200"
      ],
      "execution_count": 140,
      "outputs": []
    },
    {
      "cell_type": "code",
      "metadata": {
        "id": "K0kTcEbTXJ2l"
      },
      "source": [
        "def load_dataset():\n",
        "  categories = ['blur', 'normal', 'dark', 'glare', 'damaged', 'covered']\n",
        "  classes = os.listdir('./classes')\n",
        "  train_photos, test_photos, train_labels, test_labels = list(), list(), list(), list()\n",
        "\n",
        "  def get_encoding(class_name):\n",
        "    return list(map(lambda c: 1 if c == class_name else 0, categories))\n",
        "\n",
        "  for each in classes:\n",
        "    i = 0;\n",
        "    for image in os.listdir('./classes/' + each):\n",
        "      output = get_encoding(each)\n",
        "      photo = load_img('./classes/' + each + \"/\" + image, target_size=(target_height, target_width))\n",
        "      photo = img_to_array(photo)\n",
        "\n",
        "      if i > 2:\n",
        "        train_photos.append(photo)\n",
        "        train_labels.append(output)\n",
        "      else:\n",
        "        test_photos.append(photo)\n",
        "        test_labels.append(output)\n",
        "      i += 1;\n",
        "\n",
        "  X_train = asarray(train_photos)\n",
        "  y_train = asarray(train_labels)\n",
        "  X_test = asarray(test_photos)\n",
        "  y_test = asarray(test_labels)\n",
        "\n",
        "  return X_train, y_train, X_test, y_test"
      ],
      "execution_count": 141,
      "outputs": []
    },
    {
      "cell_type": "code",
      "metadata": {
        "id": "SvjXCxb2XLvd"
      },
      "source": [
        "def build_model():\n",
        "  model = Sequential()\n",
        "  model.add(Conv2D(32, (3, 3), activation='relu', kernel_initializer='he_uniform', input_shape=(target_height, target_width, 3)))\n",
        "  model.add(MaxPooling2D((2, 2)))\n",
        "  model.add(Flatten())\n",
        "  model.add(Dense(100, activation='relu', kernel_initializer='he_uniform'))\n",
        "  model.add(Dropout(0.2))\n",
        "  model.add(Dense(6, activation='sigmoid'))\n",
        "\n",
        "  opt = 'adam'\n",
        "  # opt = SGD(lr=0.01, momentum=0.9)\n",
        "  model.compile(optimizer=opt,loss='binary_crossentropy',metrics=['accuracy'])\n",
        "  return model"
      ],
      "execution_count": 142,
      "outputs": []
    },
    {
      "cell_type": "code",
      "metadata": {
        "id": "DnPk4u3GXNHg"
      },
      "source": [
        "def train_model(model, dataX, dataY, testX, testY):\n",
        "  datagen = ImageDataGenerator(rescale=1./255)\n",
        "  testgen = ImageDataGenerator(rescale=1./255)\n",
        "\n",
        "  history = model.fit(datagen.flow(dataX, dataY), epochs=30, validation_data=testgen.flow(testX, testY), verbose=1)\n",
        "  _, acc = model.evaluate(testX, testY, verbose=0)\n",
        "  print('> %.3f' % (acc * 100.0))\n",
        "\n",
        "  return model, history, acc"
      ],
      "execution_count": 143,
      "outputs": []
    },
    {
      "cell_type": "code",
      "metadata": {
        "id": "Q0QLpx7qXO0c"
      },
      "source": [
        "def plot_metrics(history):\n",
        "  fig, (ax1, ax2) = pyplot.subplots(2)\n",
        "  plot_loss(history, ax1)\n",
        "  plot_accuracy(history, ax2)\n",
        "\n",
        "def plot_loss(each, ax):\n",
        "  ax.set_title('Cross Entropy Loss')\n",
        "  ax.plot(each.history['loss'], color='blue', label='train')\n",
        "  ax.plot(each.history['val_loss'], color='orange', label='test')\n",
        "\n",
        "def plot_accuracy(each, ax):\n",
        "  ax.set_title('Classification Accuracy')\n",
        "  ax.plot(each.history['accuracy'], color='blue', label='train')\n",
        "  ax.plot(each.history['val_accuracy'], color='orange', label='test')\n"
      ],
      "execution_count": 144,
      "outputs": []
    },
    {
      "cell_type": "code",
      "metadata": {
        "id": "ag7rcLMsXQwX"
      },
      "source": [
        "def predict(model, reserveX, reserveY):\n",
        "  print(reserveY)\n",
        "  a = model.predict(reserveX)\n",
        "  print(list(map(lambda b: list(map(lambda c: int(c), b)), a)))"
      ],
      "execution_count": 145,
      "outputs": []
    },
    {
      "cell_type": "code",
      "metadata": {
        "id": "kVQjNd6-oAmw"
      },
      "source": [
        "def save_model(model):\n",
        "  fd_model = os.open('./models/multi_label_classification.json', os.O_RDWR|os.O_CREAT) \n",
        "  model_json = model.to_json()\n",
        "  os.write(fd_model, bytes(model_json, 'utf-8'))\n",
        "  os.close(fd_model)\n",
        "\n",
        "  model.save_weights(\"./weights/multi_label_classification.h5\")\n",
        "  print(\"Saved model to disk\")"
      ],
      "execution_count": 146,
      "outputs": []
    },
    {
      "cell_type": "code",
      "metadata": {
        "id": "t4CmT81mXTgA",
        "outputId": "6974d00d-d358-4f6f-abd9-c78c2ff51101",
        "colab": {
          "base_uri": "https://localhost:8080/",
          "height": 1000
        }
      },
      "source": [
        "def run():\n",
        "  trainX, trainY, testX, testY = load_dataset()\n",
        "\n",
        "  model = build_model()\n",
        "\n",
        "  model, hists, accs = train_model(model, trainX, trainY, testX, testY)\n",
        "\n",
        "  plot_metrics(hists)\n",
        "\n",
        "# do i need to rescale reserveX and reserveY\n",
        "  predict(model, testX, testY)\n",
        "\n",
        "  # save_model(model)\n",
        "\n",
        "run()"
      ],
      "execution_count": 147,
      "outputs": [
        {
          "output_type": "stream",
          "text": [
            "Epoch 1/30\n",
            "2/2 [==============================] - 0s 92ms/step - loss: 9.8590 - accuracy: 0.1346 - val_loss: 24.4627 - val_accuracy: 0.1667\n",
            "Epoch 2/30\n",
            "2/2 [==============================] - 0s 38ms/step - loss: 31.8001 - accuracy: 0.1538 - val_loss: 15.1961 - val_accuracy: 0.1667\n",
            "Epoch 3/30\n",
            "2/2 [==============================] - 0s 41ms/step - loss: 14.0409 - accuracy: 0.3077 - val_loss: 10.6252 - val_accuracy: 0.2222\n",
            "Epoch 4/30\n",
            "2/2 [==============================] - 0s 39ms/step - loss: 12.8553 - accuracy: 0.2115 - val_loss: 7.5452 - val_accuracy: 0.1667\n",
            "Epoch 5/30\n",
            "2/2 [==============================] - 0s 40ms/step - loss: 12.9184 - accuracy: 0.2692 - val_loss: 7.0066 - val_accuracy: 0.3889\n",
            "Epoch 6/30\n",
            "2/2 [==============================] - 0s 41ms/step - loss: 6.7814 - accuracy: 0.3846 - val_loss: 4.4778 - val_accuracy: 0.4444\n",
            "Epoch 7/30\n",
            "2/2 [==============================] - 0s 39ms/step - loss: 6.3036 - accuracy: 0.2885 - val_loss: 2.1888 - val_accuracy: 0.6667\n",
            "Epoch 8/30\n",
            "2/2 [==============================] - 0s 39ms/step - loss: 2.3849 - accuracy: 0.4615 - val_loss: 2.1857 - val_accuracy: 0.5556\n",
            "Epoch 9/30\n",
            "2/2 [==============================] - 0s 40ms/step - loss: 2.9284 - accuracy: 0.5000 - val_loss: 0.9176 - val_accuracy: 0.6111\n",
            "Epoch 10/30\n",
            "2/2 [==============================] - 0s 38ms/step - loss: 1.6793 - accuracy: 0.5769 - val_loss: 0.5956 - val_accuracy: 0.7222\n",
            "Epoch 11/30\n",
            "2/2 [==============================] - 0s 37ms/step - loss: 0.7080 - accuracy: 0.6346 - val_loss: 0.4322 - val_accuracy: 0.7222\n",
            "Epoch 12/30\n",
            "2/2 [==============================] - 0s 39ms/step - loss: 0.3920 - accuracy: 0.7115 - val_loss: 0.3367 - val_accuracy: 0.6667\n",
            "Epoch 13/30\n",
            "2/2 [==============================] - 0s 38ms/step - loss: 0.4732 - accuracy: 0.6538 - val_loss: 0.2912 - val_accuracy: 0.7222\n",
            "Epoch 14/30\n",
            "2/2 [==============================] - 0s 37ms/step - loss: 0.4161 - accuracy: 0.5769 - val_loss: 0.3534 - val_accuracy: 0.6111\n",
            "Epoch 15/30\n",
            "2/2 [==============================] - 0s 39ms/step - loss: 0.4137 - accuracy: 0.6731 - val_loss: 0.3834 - val_accuracy: 0.7222\n",
            "Epoch 16/30\n",
            "2/2 [==============================] - 0s 39ms/step - loss: 0.4754 - accuracy: 0.5192 - val_loss: 0.3430 - val_accuracy: 0.7222\n",
            "Epoch 17/30\n",
            "2/2 [==============================] - 0s 37ms/step - loss: 0.4017 - accuracy: 0.6154 - val_loss: 0.3143 - val_accuracy: 0.7222\n",
            "Epoch 18/30\n",
            "2/2 [==============================] - 0s 46ms/step - loss: 0.3948 - accuracy: 0.6538 - val_loss: 0.3316 - val_accuracy: 0.6667\n",
            "Epoch 19/30\n",
            "2/2 [==============================] - 0s 37ms/step - loss: 0.3747 - accuracy: 0.5962 - val_loss: 0.2845 - val_accuracy: 0.6667\n",
            "Epoch 20/30\n",
            "2/2 [==============================] - 0s 39ms/step - loss: 0.3624 - accuracy: 0.6538 - val_loss: 0.2779 - val_accuracy: 0.7222\n",
            "Epoch 21/30\n",
            "2/2 [==============================] - 0s 38ms/step - loss: 0.3080 - accuracy: 0.7692 - val_loss: 0.2555 - val_accuracy: 0.7778\n",
            "Epoch 22/30\n",
            "2/2 [==============================] - 0s 38ms/step - loss: 0.3468 - accuracy: 0.6731 - val_loss: 0.2601 - val_accuracy: 0.7222\n",
            "Epoch 23/30\n",
            "2/2 [==============================] - 0s 39ms/step - loss: 0.3378 - accuracy: 0.6923 - val_loss: 0.2660 - val_accuracy: 0.7778\n",
            "Epoch 24/30\n",
            "2/2 [==============================] - 0s 39ms/step - loss: 0.3415 - accuracy: 0.6731 - val_loss: 0.2404 - val_accuracy: 0.7778\n",
            "Epoch 25/30\n",
            "2/2 [==============================] - 0s 38ms/step - loss: 0.3423 - accuracy: 0.6923 - val_loss: 0.2338 - val_accuracy: 0.7778\n",
            "Epoch 26/30\n",
            "2/2 [==============================] - 0s 35ms/step - loss: 0.3469 - accuracy: 0.7885 - val_loss: 0.2533 - val_accuracy: 0.6667\n",
            "Epoch 27/30\n",
            "2/2 [==============================] - 0s 41ms/step - loss: 0.3156 - accuracy: 0.8077 - val_loss: 0.2292 - val_accuracy: 0.8889\n",
            "Epoch 28/30\n",
            "2/2 [==============================] - 0s 37ms/step - loss: 0.2976 - accuracy: 0.8654 - val_loss: 0.2164 - val_accuracy: 0.7778\n",
            "Epoch 29/30\n",
            "2/2 [==============================] - 0s 38ms/step - loss: 0.2437 - accuracy: 0.7692 - val_loss: 0.1980 - val_accuracy: 0.7778\n",
            "Epoch 30/30\n",
            "2/2 [==============================] - 0s 38ms/step - loss: 0.3416 - accuracy: 0.6538 - val_loss: 0.2163 - val_accuracy: 0.7778\n",
            "> 77.778\n",
            "[[1 0 0 0 0 0]\n",
            " [1 0 0 0 0 0]\n",
            " [1 0 0 0 0 0]\n",
            " [0 1 0 0 0 0]\n",
            " [0 1 0 0 0 0]\n",
            " [0 1 0 0 0 0]\n",
            " [0 0 1 0 0 0]\n",
            " [0 0 1 0 0 0]\n",
            " [0 0 1 0 0 0]\n",
            " [0 0 0 1 0 0]\n",
            " [0 0 0 1 0 0]\n",
            " [0 0 0 1 0 0]\n",
            " [0 0 0 0 1 0]\n",
            " [0 0 0 0 1 0]\n",
            " [0 0 0 0 1 0]\n",
            " [0 0 0 0 0 1]\n",
            " [0 0 0 0 0 1]\n",
            " [0 0 0 0 0 1]]\n",
            "WARNING:tensorflow:10 out of the last 11 calls to <function Model.make_predict_function.<locals>.predict_function at 0x7f121e2d0400> triggered tf.function retracing. Tracing is expensive and the excessive number of tracings could be due to (1) creating @tf.function repeatedly in a loop, (2) passing tensors with different shapes, (3) passing Python objects instead of tensors. For (1), please define your @tf.function outside of the loop. For (2), @tf.function has experimental_relax_shapes=True option that relaxes argument shapes that can avoid unnecessary retracing. For (3), please refer to https://www.tensorflow.org/tutorials/customization/performance#python_or_tensor_args and https://www.tensorflow.org/api_docs/python/tf/function for  more details.\n",
            "[[1, 1, 0, 0, 0, 0], [1, 1, 0, 0, 0, 0], [1, 0, 0, 0, 0, 0], [0, 1, 0, 0, 0, 0], [0, 0, 0, 1, 0, 0], [0, 1, 0, 0, 0, 0], [0, 0, 1, 0, 0, 0], [0, 0, 1, 0, 0, 0], [0, 1, 0, 0, 0, 0], [0, 0, 0, 0, 0, 0], [0, 0, 0, 1, 0, 0], [1, 1, 0, 0, 0, 0], [0, 0, 0, 1, 0, 0], [0, 0, 0, 1, 1, 0], [0, 0, 0, 1, 1, 0], [0, 0, 0, 0, 0, 1], [1, 0, 0, 0, 0, 1], [0, 0, 0, 0, 0, 1]]\n"
          ],
          "name": "stdout"
        },
        {
          "output_type": "display_data",
          "data": {
            "image/png": "[encoded data removed]",
            "text/plain": [
              "<Figure size 432x288 with 2 Axes>"
            ]
          },
          "metadata": {
            "tags": [],
            "needs_background": "light"
          }
        }
      ]
    }
  ]
}