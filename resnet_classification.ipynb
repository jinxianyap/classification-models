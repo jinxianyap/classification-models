{
  "nbformat": 4,
  "nbformat_minor": 0,
  "metadata": {
    "colab": {
      "name": "resnet_classification.ipynb",
      "provenance": [],
      "collapsed_sections": [],
      "authorship_tag": "ABX9TyNZRRZYf13ne0PIMmHWJtQt",
      "include_colab_link": true
    },
    "kernelspec": {
      "name": "python3",
      "display_name": "Python 3"
    },
    "accelerator": "GPU"
  },
  "cells": [
    {
      "cell_type": "markdown",
      "metadata": {
        "id": "view-in-github",
        "colab_type": "text"
      },
      "source": [
        "<a href=\"https://colab.research.google.com/github/jinxianyap/classification-models/blob/master/resnet_classification.ipynb\" target=\"_parent\"><img src=\"https://colab.research.google.com/assets/colab-badge.svg\" alt=\"Open In Colab\"/></a>"
      ]
    },
    {
      "cell_type": "code",
      "metadata": {
        "id": "KmPs8u0-j-vu",
        "outputId": "d3478879-d547-4b5e-f28f-e42d5671a660",
        "colab": {
          "base_uri": "https://localhost:8080/",
          "height": 341
        }
      },
      "source": [
        "!pip install --upgrade gspread\n",
        "\n",
        "from google.colab import drive\n",
        "drive.mount('/gdrive')\n",
        "%cd /gdrive/My\\ Drive/WISE AI/Classification"
      ],
      "execution_count": null,
      "outputs": [
        {
          "output_type": "stream",
          "text": [
            "Requirement already up-to-date: gspread in /usr/local/lib/python3.6/dist-packages (3.6.0)\n",
            "Requirement already satisfied, skipping upgrade: google-auth-oauthlib>=0.4.1 in /usr/local/lib/python3.6/dist-packages (from gspread) (0.4.1)\n",
            "Requirement already satisfied, skipping upgrade: google-auth>=1.12.0 in /usr/local/lib/python3.6/dist-packages (from gspread) (1.17.2)\n",
            "Requirement already satisfied, skipping upgrade: requests>=2.2.1 in /usr/local/lib/python3.6/dist-packages (from gspread) (2.23.0)\n",
            "Requirement already satisfied, skipping upgrade: requests-oauthlib>=0.7.0 in /usr/local/lib/python3.6/dist-packages (from google-auth-oauthlib>=0.4.1->gspread) (1.3.0)\n",
            "Requirement already satisfied, skipping upgrade: pyasn1-modules>=0.2.1 in /usr/local/lib/python3.6/dist-packages (from google-auth>=1.12.0->gspread) (0.2.8)\n",
            "Requirement already satisfied, skipping upgrade: setuptools>=40.3.0 in /usr/local/lib/python3.6/dist-packages (from google-auth>=1.12.0->gspread) (50.3.0)\n",
            "Requirement already satisfied, skipping upgrade: rsa<5,>=3.1.4; python_version >= \"3\" in /usr/local/lib/python3.6/dist-packages (from google-auth>=1.12.0->gspread) (4.6)\n",
            "Requirement already satisfied, skipping upgrade: cachetools<5.0,>=2.0.0 in /usr/local/lib/python3.6/dist-packages (from google-auth>=1.12.0->gspread) (4.1.1)\n",
            "Requirement already satisfied, skipping upgrade: six>=1.9.0 in /usr/local/lib/python3.6/dist-packages (from google-auth>=1.12.0->gspread) (1.15.0)\n",
            "Requirement already satisfied, skipping upgrade: chardet<4,>=3.0.2 in /usr/local/lib/python3.6/dist-packages (from requests>=2.2.1->gspread) (3.0.4)\n",
            "Requirement already satisfied, skipping upgrade: idna<3,>=2.5 in /usr/local/lib/python3.6/dist-packages (from requests>=2.2.1->gspread) (2.10)\n",
            "Requirement already satisfied, skipping upgrade: urllib3!=1.25.0,!=1.25.1,<1.26,>=1.21.1 in /usr/local/lib/python3.6/dist-packages (from requests>=2.2.1->gspread) (1.24.3)\n",
            "Requirement already satisfied, skipping upgrade: certifi>=2017.4.17 in /usr/local/lib/python3.6/dist-packages (from requests>=2.2.1->gspread) (2020.6.20)\n",
            "Requirement already satisfied, skipping upgrade: oauthlib>=3.0.0 in /usr/local/lib/python3.6/dist-packages (from requests-oauthlib>=0.7.0->google-auth-oauthlib>=0.4.1->gspread) (3.1.0)\n",
            "Requirement already satisfied, skipping upgrade: pyasn1<0.5.0,>=0.4.6 in /usr/local/lib/python3.6/dist-packages (from pyasn1-modules>=0.2.1->google-auth>=1.12.0->gspread) (0.4.8)\n",
            "Mounted at /gdrive\n",
            "/gdrive/My Drive/WISE AI/Classification\n"
          ],
          "name": "stdout"
        }
      ]
    },
    {
      "cell_type": "code",
      "metadata": {
        "id": "3kGlpowRox1h"
      },
      "source": [
        "import os\n",
        "import csv   \n",
        "import numpy as np\n",
        "import json\n",
        "from numpy import asarray\n",
        "from numpy import save\n",
        "from keras.preprocessing.image import load_img\n",
        "from keras.preprocessing.image import img_to_array\n",
        "from sklearn.model_selection import train_test_split\n",
        "from matplotlib import pyplot\n",
        "from matplotlib.image import imread\n",
        "\n",
        "from keras.applications.resnet import ResNet50\n",
        "from keras.applications.resnet import preprocess_input\n",
        "from keras.preprocessing.image import ImageDataGenerator\n",
        "from keras import Sequential\n",
        "from keras.layers import Flatten,Dense,BatchNormalization,Activation,Dropout,Conv2D,MaxPooling2D\n",
        "from keras.optimizers import SGD,Adam,RMSprop\n",
        "from keras.regularizers import l1, l2\n",
        "from keras.constraints import max_norm\n",
        "from sklearn.model_selection import KFold\n",
        "from keras.models import model_from_json\n",
        "from sklearn.metrics import classification_report\n",
        "\n",
        "from google.colab import auth\n",
        "auth.authenticate_user()\n",
        "import gspread\n",
        "from oauth2client.client import GoogleCredentials\n",
        "\n",
        "gc = gspread.authorize(GoogleCredentials.get_application_default())\n",
        "target_height = 224\n",
        "target_width = 224\n",
        "classes_dir = './classes/'"
      ],
      "execution_count": null,
      "outputs": []
    },
    {
      "cell_type": "code",
      "metadata": {
        "id": "5qcX4fxlrSiF"
      },
      "source": [
        "def load_dataset():\n",
        "  classes = os.listdir(classes_dir)\n",
        "  train_photos, test_photos, train_labels, test_labels, train_paths, test_paths = list(), list(), list(), list(), list(), list();\n",
        "\n",
        "  def get_encoding(class_name):\n",
        "    return list(map(lambda c: 1 if c == class_name else 0, classes))\n",
        "\n",
        "  for each in classes:\n",
        "    i = 0;\n",
        "    for image in os.listdir(classes_dir + each):\n",
        "      output = get_encoding(each)\n",
        "      photo = load_img(classes_dir + each + \"/\" + image, target_size=(target_height, target_width))\n",
        "      photo = img_to_array(photo)\n",
        "\n",
        "      if i > 2:\n",
        "        train_photos.append(photo)\n",
        "        train_labels.append(output)\n",
        "        train_paths.append(each + \"/\" + image)\n",
        "      else:\n",
        "        test_photos.append(photo)\n",
        "        test_labels.append(output)\n",
        "        test_paths.append(each + \"/\" + image)\n",
        "      i += 1;\n",
        "\n",
        "  X_train = asarray(train_photos)\n",
        "  y_train = asarray(train_labels)\n",
        "  X_test = asarray(test_photos)\n",
        "  y_test = asarray(test_labels)\n",
        "  train_paths = asarray(train_paths)\n",
        "  test_paths = asarray(test_paths)\n",
        "\n",
        "  return classes, X_train, y_train, X_test, y_test, train_paths, test_paths"
      ],
      "execution_count": null,
      "outputs": []
    },
    {
      "cell_type": "code",
      "metadata": {
        "id": "JgSHV8YRqSA2"
      },
      "source": [
        "def build_model():\n",
        "  base_model = ResNet50(\n",
        "      include_top=False,\n",
        "      pooling='max',\n",
        "      weights=\"imagenet\",\n",
        "      input_shape=(224, 224, 3)\n",
        "  )\n",
        "  model = Sequential()\n",
        "  model.add(base_model)\n",
        "  model.add(Flatten())\n",
        "  model.add(Dropout(0.2))\n",
        "  model.add(Dense(256, activation='relu'))\n",
        "  model.add(Dropout(0.2))\n",
        "  model.add(Dense(6, activation='softmax', kernel_regularizer=l1(0.01)))\n",
        "  model.summary()\n",
        "  opt = SGD(lr=0.001, momentum=0.6)\n",
        "  model.compile(optimizer=opt, loss='categorical_crossentropy', metrics=['accuracy'])\n",
        "  return model"
      ],
      "execution_count": null,
      "outputs": []
    },
    {
      "cell_type": "code",
      "metadata": {
        "id": "IMEEHdvnklP9"
      },
      "source": [
        "def train_model(model, dataX, dataY, testX, testY):\n",
        "  history = model.fit(dataX, dataY, epochs=25, validation_data=(testX, testY), verbose=1)\n",
        "  _, acc = model.evaluate(testX, testY, verbose=0)\n",
        "  print('> %.3f' % (acc * 100.0))\n",
        "\n",
        "  return model, history, acc"
      ],
      "execution_count": null,
      "outputs": []
    },
    {
      "cell_type": "code",
      "metadata": {
        "id": "MKawt-iFqVyV"
      },
      "source": [
        "def plot_metrics(history):\n",
        "  fig, (ax1, ax2) = pyplot.subplots(2)\n",
        "  plot_loss(history, ax1)\n",
        "  plot_accuracy(history, ax2)\n",
        "\n",
        "def plot_loss(each, ax):\n",
        "  ax.set_title('Cross Entropy Loss')\n",
        "  ax.plot(each.history['loss'], color='blue', label='train')\n",
        "  ax.plot(each.history['val_loss'], color='orange', label='test')\n",
        "\n",
        "def plot_accuracy(each, ax):\n",
        "  ax.set_title('Classification Accuracy')\n",
        "  ax.plot(each.history['accuracy'], color='blue', label='train')\n",
        "  ax.plot(each.history['val_accuracy'], color='orange', label='test')"
      ],
      "execution_count": null,
      "outputs": []
    },
    {
      "cell_type": "code",
      "metadata": {
        "id": "hoibMNl-nyP5"
      },
      "source": [
        "def decode(vals):\n",
        "  return list(map(lambda x: list_to_num(x), vals))\n",
        "\n",
        "def prettify_floats(vals):\n",
        "  return list(map(lambda x: list(map(lambda y: \"%.2f\" % y, x)), vals))\n",
        "\n",
        "def list_to_num(ls):\n",
        "  max = -1\n",
        "  pos = 0\n",
        "  for i in range(len(ls)):\n",
        "    if ls[i] > max:\n",
        "      max = ls[i]\n",
        "      pos = i\n",
        "  return pos\n",
        "\n",
        "def get_table_metrics(model, classes, testX, testY):\n",
        "  print(classification_report(decode(testY), decode(model.predict(testX)), target_names=classes))\n",
        "  return json.dumps(classification_report(decode(testY), decode(model.predict(testX)), target_names=classes, output_dict=True))"
      ],
      "execution_count": null,
      "outputs": []
    },
    {
      "cell_type": "code",
      "metadata": {
        "id": "YvCsnpXgn5yL"
      },
      "source": [
        "def save_model(model, name):\n",
        "  fd_model = os.open('./models/%s_classification.json' % name, os.O_RDWR|os.O_CREAT) \n",
        "  model_json = model.to_json()\n",
        "  os.write(fd_model, bytes(model_json, 'utf-8'))\n",
        "  os.close(fd_model)\n",
        "\n",
        "  model.save_weights(\"./weights/%s_classification.h5\" % name)\n",
        "  print(\"Saved model to disk\")"
      ],
      "execution_count": null,
      "outputs": []
    },
    {
      "cell_type": "code",
      "metadata": {
        "id": "v1Iv9sAyn7nk"
      },
      "source": [
        "def write_to_output(model, name, classes, dataX, dataY, paths, is_test):\n",
        "  def next_available_row(worksheet):\n",
        "    str_list = list(filter(None, worksheet.col_values(1)))\n",
        "    return len(str_list)+1\n",
        "\n",
        "  worksheet = gc.open('results').worksheet(name)\n",
        "  row = next_available_row(worksheet)\n",
        "\n",
        "  for i in range(len(dataX)):\n",
        "    first_row = str(row)\n",
        "    worksheet.update_acell(\"A{}\".format(first_row), name)\n",
        "    worksheet.update_acell(\"B{}\".format(first_row), 'softmax')\n",
        "    worksheet.update_acell(\"C{}\".format(first_row), True)\n",
        "    worksheet.update_acell(\"D{}\".format(first_row), 'test' if is_test else 'train')\n",
        "    worksheet.update_acell(\"E{}\".format(first_row), 'classes')\n",
        "    worksheet.update_acell(\"F{}\".format(first_row), str(paths[i]))\n",
        "    worksheet.update_acell(\"G{}\".format(first_row), classes[list_to_num(dataY[i])])\n",
        "    worksheet.update_acell(\"H{}\".format(first_row), classes[decode(model.predict(dataX[i:i+1]))[0]])\n",
        "\n",
        "    row += 1\n",
        "\n",
        "  print('Written to output CSV')\n",
        "\n"
      ],
      "execution_count": null,
      "outputs": []
    },
    {
      "cell_type": "code",
      "metadata": {
        "id": "nTM98Pf7qblv",
        "outputId": "1d955710-445b-44ed-906d-06043a619ae0",
        "colab": {
          "base_uri": "https://localhost:8080/",
          "height": 1000
        }
      },
      "source": [
        "classes, trainX, trainY, testX, testY, train_paths, test_paths = load_dataset()\n",
        "\n",
        "trainX, testX = preprocess_input(trainX), preprocess_input(testX)\n",
        "\n",
        "model = build_model()\n",
        "\n",
        "model, hists, accs = train_model(model, trainX, trainY, testX, testY)\n",
        "\n",
        "plot_metrics(hists)\n",
        "\n",
        "report = get_table_metrics(model, classes, testX, testY)"
      ],
      "execution_count": null,
      "outputs": [
        {
          "output_type": "stream",
          "text": [
            "Model: \"sequential_11\"\n",
            "_________________________________________________________________\n",
            "Layer (type)                 Output Shape              Param #   \n",
            "=================================================================\n",
            "resnet50 (Functional)        (None, 2048)              23587712  \n",
            "_________________________________________________________________\n",
            "flatten_11 (Flatten)         (None, 2048)              0         \n",
            "_________________________________________________________________\n",
            "dropout_22 (Dropout)         (None, 2048)              0         \n",
            "_________________________________________________________________\n",
            "dense_22 (Dense)             (None, 256)               524544    \n",
            "_________________________________________________________________\n",
            "dropout_23 (Dropout)         (None, 256)               0         \n",
            "_________________________________________________________________\n",
            "dense_23 (Dense)             (None, 6)                 1542      \n",
            "=================================================================\n",
            "Total params: 24,113,798\n",
            "Trainable params: 24,060,678\n",
            "Non-trainable params: 53,120\n",
            "_________________________________________________________________\n",
            "Epoch 1/25\n",
            "2/2 [==============================] - 1s 658ms/step - loss: 11.9188 - accuracy: 0.2885 - val_loss: 5.7181 - val_accuracy: 0.2778\n",
            "Epoch 2/25\n",
            "2/2 [==============================] - 0s 237ms/step - loss: 4.1039 - accuracy: 0.7115 - val_loss: 4.5614 - val_accuracy: 0.3889\n",
            "Epoch 3/25\n",
            "2/2 [==============================] - 0s 241ms/step - loss: 2.1676 - accuracy: 0.8846 - val_loss: 3.7695 - val_accuracy: 0.6111\n",
            "Epoch 4/25\n",
            "2/2 [==============================] - 0s 237ms/step - loss: 1.7142 - accuracy: 0.8846 - val_loss: 4.2497 - val_accuracy: 0.2778\n",
            "Epoch 5/25\n",
            "2/2 [==============================] - 0s 239ms/step - loss: 1.6022 - accuracy: 0.9038 - val_loss: 2.9198 - val_accuracy: 0.6111\n",
            "Epoch 6/25\n",
            "2/2 [==============================] - 0s 237ms/step - loss: 1.2437 - accuracy: 0.9808 - val_loss: 2.0826 - val_accuracy: 0.6111\n",
            "Epoch 7/25\n",
            "2/2 [==============================] - 0s 240ms/step - loss: 1.1855 - accuracy: 0.9808 - val_loss: 2.3066 - val_accuracy: 0.6667\n",
            "Epoch 8/25\n",
            "2/2 [==============================] - 0s 240ms/step - loss: 1.2620 - accuracy: 0.9808 - val_loss: 2.5184 - val_accuracy: 0.6111\n",
            "Epoch 9/25\n",
            "2/2 [==============================] - 0s 239ms/step - loss: 1.2937 - accuracy: 0.9423 - val_loss: 2.5433 - val_accuracy: 0.6667\n",
            "Epoch 10/25\n",
            "2/2 [==============================] - 0s 239ms/step - loss: 1.2561 - accuracy: 0.9808 - val_loss: 2.8807 - val_accuracy: 0.6111\n",
            "Epoch 11/25\n",
            "2/2 [==============================] - 0s 240ms/step - loss: 1.1415 - accuracy: 1.0000 - val_loss: 2.7563 - val_accuracy: 0.6111\n",
            "Epoch 12/25\n",
            "2/2 [==============================] - 0s 241ms/step - loss: 1.3540 - accuracy: 0.9615 - val_loss: 2.8859 - val_accuracy: 0.6111\n",
            "Epoch 13/25\n",
            "2/2 [==============================] - 0s 242ms/step - loss: 1.1393 - accuracy: 1.0000 - val_loss: 2.9638 - val_accuracy: 0.6111\n",
            "Epoch 14/25\n",
            "2/2 [==============================] - 0s 242ms/step - loss: 1.1418 - accuracy: 1.0000 - val_loss: 2.7796 - val_accuracy: 0.6111\n",
            "Epoch 15/25\n",
            "2/2 [==============================] - 0s 241ms/step - loss: 1.2482 - accuracy: 0.9808 - val_loss: 2.6653 - val_accuracy: 0.6111\n",
            "Epoch 16/25\n",
            "2/2 [==============================] - 0s 243ms/step - loss: 1.1806 - accuracy: 0.9808 - val_loss: 2.4853 - val_accuracy: 0.6667\n",
            "Epoch 17/25\n",
            "2/2 [==============================] - 0s 242ms/step - loss: 1.1389 - accuracy: 1.0000 - val_loss: 2.6308 - val_accuracy: 0.6667\n",
            "Epoch 18/25\n",
            "2/2 [==============================] - 0s 245ms/step - loss: 1.1644 - accuracy: 0.9808 - val_loss: 2.5088 - val_accuracy: 0.7222\n",
            "Epoch 19/25\n",
            "2/2 [==============================] - 0s 241ms/step - loss: 1.1596 - accuracy: 0.9808 - val_loss: 2.0715 - val_accuracy: 0.6111\n",
            "Epoch 20/25\n",
            "2/2 [==============================] - 0s 245ms/step - loss: 1.1432 - accuracy: 1.0000 - val_loss: 1.8053 - val_accuracy: 0.6667\n",
            "Epoch 21/25\n",
            "2/2 [==============================] - 0s 243ms/step - loss: 1.1331 - accuracy: 1.0000 - val_loss: 1.6982 - val_accuracy: 0.6667\n",
            "Epoch 22/25\n",
            "2/2 [==============================] - 0s 246ms/step - loss: 1.2022 - accuracy: 0.9808 - val_loss: 1.7598 - val_accuracy: 0.7778\n",
            "Epoch 23/25\n",
            "2/2 [==============================] - 0s 244ms/step - loss: 1.1427 - accuracy: 1.0000 - val_loss: 1.9110 - val_accuracy: 0.7778\n",
            "Epoch 24/25\n",
            "2/2 [==============================] - 0s 242ms/step - loss: 1.1310 - accuracy: 1.0000 - val_loss: 1.9501 - val_accuracy: 0.7778\n",
            "Epoch 25/25\n",
            "2/2 [==============================] - 0s 248ms/step - loss: 1.1314 - accuracy: 1.0000 - val_loss: 1.9038 - val_accuracy: 0.7778\n",
            "> 77.778\n",
            "WARNING:tensorflow:6 out of the last 11 calls to <function Model.make_predict_function.<locals>.predict_function at 0x7f5559846bf8> triggered tf.function retracing. Tracing is expensive and the excessive number of tracings could be due to (1) creating @tf.function repeatedly in a loop, (2) passing tensors with different shapes, (3) passing Python objects instead of tensors. For (1), please define your @tf.function outside of the loop. For (2), @tf.function has experimental_relax_shapes=True option that relaxes argument shapes that can avoid unnecessary retracing. For (3), please refer to https://www.tensorflow.org/tutorials/customization/performance#python_or_tensor_args and https://www.tensorflow.org/api_docs/python/tf/function for  more details.\n",
            "              precision    recall  f1-score   support\n",
            "\n",
            "        blur       0.60      1.00      0.75         3\n",
            "      normal       1.00      0.33      0.50         3\n",
            "        dark       1.00      0.67      0.80         3\n",
            "       glare       1.00      0.67      0.80         3\n",
            "     damaged       0.60      1.00      0.75         3\n",
            "     covered       1.00      1.00      1.00         3\n",
            "\n",
            "    accuracy                           0.78        18\n",
            "   macro avg       0.87      0.78      0.77        18\n",
            "weighted avg       0.87      0.78      0.77        18\n",
            "\n"
          ],
          "name": "stdout"
        },
        {
          "output_type": "display_data",
          "data": {
            "image/png": "[encoded data removed]",
            "text/plain": [
              "<Figure size 432x288 with 2 Axes>"
            ]
          },
          "metadata": {
            "tags": [],
            "needs_background": "light"
          }
        }
      ]
    },
    {
      "cell_type": "code",
      "metadata": {
        "id": "fIk9ywaaoHsv",
        "outputId": "e8db60b3-3448-410d-f102-8438b93169bc",
        "colab": {
          "base_uri": "https://localhost:8080/",
          "height": 71
        }
      },
      "source": [
        "name = 'resnet'\n",
        "save_model(model, name)\n",
        "\n",
        "write_to_output(model, name, classes, testX, testY, test_paths, True)\n",
        "\n",
        "write_to_output(model, name, classes, trainX, trainY, train_paths, False)"
      ],
      "execution_count": null,
      "outputs": [
        {
          "output_type": "stream",
          "text": [
            "Saved model to disk\n",
            "Written to output CSV\n",
            "Written to output CSV\n"
          ],
          "name": "stdout"
        }
      ]
    }
  ]
}